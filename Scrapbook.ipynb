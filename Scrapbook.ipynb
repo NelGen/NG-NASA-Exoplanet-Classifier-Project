{
 "cells": [
  {
   "cell_type": "code",
   "execution_count": 149,
   "metadata": {},
   "outputs": [],
   "source": [
    "import numpy as np\n",
    "import pandas as pd\n",
    "from functions import *\n",
    "\n",
    "import matplotlib.pyplot as plt\n",
    "%matplotlib inline\n",
    "import seaborn as sns\n",
    "\n",
    "from sklearn.model_selection import train_test_split, GridSearchCV, cross_val_score\n",
    "from sklearn.pipeline import Pipeline\n",
    "\n",
    "# Classification Models\n",
    "from sklearn.linear_model import LogisticRegression\n",
    "from sklearn.tree import DecisionTreeClassifier\n",
    "from sklearn.ensemble import RandomForestClassifier, AdaBoostClassifier, GradientBoostingClassifier\n",
    "from sklearn.neighbors import KNeighborsClassifier\n",
    "from sklearn.naive_bayes import GaussianNB\n",
    "from sklearn.svm import SVC\n",
    "import xgboost as xgb\n",
    "\n",
    "from sklearn.metrics import plot_confusion_matrix, classification_report,accuracy_score, f1_score\n",
    "\n",
    "# Scalers\n",
    "from sklearn.impute import SimpleImputer\n",
    "from sklearn.preprocessing import StandardScaler\n",
    "from sklearn.preprocessing import MinMaxScaler\n",
    "from sklearn.preprocessing import Normalizer\n",
    "from sklearn.preprocessing import RobustScaler\n",
    "\n",
    "# Categorical Create Dummies\n",
    "from sklearn.preprocessing import OneHotEncoder"
   ]
  },
  {
   "cell_type": "code",
   "execution_count": 2,
   "metadata": {},
   "outputs": [],
   "source": [
    "#notes for later:\n",
    "#drop NA values across the board\n",
    "#investigate object types\n",
    "#investigate kepid vs kepoi_name\n",
    "\n",
    "#disposition uses lightcurve data to finalize candidates into confirmed status\n",
    "#remove other metrics already used to classify dispositions"
   ]
  },
  {
   "cell_type": "code",
   "execution_count": 3,
   "metadata": {},
   "outputs": [],
   "source": [
    "# REMOVE - USED TO DETERMINE CLASSIFIERS\n",
    "# koi_score\n",
    "# koi_max_mult_ev\n",
    "# flags?"
   ]
  },
  {
   "cell_type": "code",
   "execution_count": 4,
   "metadata": {},
   "outputs": [],
   "source": [
    "# Kepler uses transit data to determine potential exo planets, further analysis is to finalize candidates\n",
    "# plan of action - find thats related to transit data, remove the secondary tests done once a possible candidate is identified"
   ]
  },
  {
   "cell_type": "markdown",
   "metadata": {},
   "source": [
    "# The Introduction"
   ]
  },
  {
   "cell_type": "markdown",
   "metadata": {},
   "source": [
    "# EDA"
   ]
  },
  {
   "cell_type": "code",
   "execution_count": 5,
   "metadata": {},
   "outputs": [],
   "source": [
    "df = pd.read_csv(r'Data\\KeplerData.csv',skiprows=76)"
   ]
  },
  {
   "cell_type": "code",
   "execution_count": 6,
   "metadata": {},
   "outputs": [],
   "source": [
    "import random\n",
    "random.seed(45)"
   ]
  },
  {
   "cell_type": "markdown",
   "metadata": {},
   "source": [
    "## Info Describe and Plots of Distributions"
   ]
  },
  {
   "cell_type": "code",
   "execution_count": 7,
   "metadata": {},
   "outputs": [
    {
     "data": {
      "text/html": [
       "<div>\n",
       "<style scoped>\n",
       "    .dataframe tbody tr th:only-of-type {\n",
       "        vertical-align: middle;\n",
       "    }\n",
       "\n",
       "    .dataframe tbody tr th {\n",
       "        vertical-align: top;\n",
       "    }\n",
       "\n",
       "    .dataframe thead th {\n",
       "        text-align: right;\n",
       "    }\n",
       "</style>\n",
       "<table border=\"1\" class=\"dataframe\">\n",
       "  <thead>\n",
       "    <tr style=\"text-align: right;\">\n",
       "      <th></th>\n",
       "      <th>kepid</th>\n",
       "      <th>kepoi_name</th>\n",
       "      <th>kepler_name</th>\n",
       "      <th>koi_disposition</th>\n",
       "      <th>koi_pdisposition</th>\n",
       "      <th>koi_score</th>\n",
       "      <th>koi_fpflag_nt</th>\n",
       "      <th>koi_fpflag_ss</th>\n",
       "      <th>koi_fpflag_co</th>\n",
       "      <th>koi_fpflag_ec</th>\n",
       "      <th>...</th>\n",
       "      <th>koi_fwm_srao</th>\n",
       "      <th>koi_fwm_sdeco</th>\n",
       "      <th>koi_fwm_prao</th>\n",
       "      <th>koi_fwm_pdeco</th>\n",
       "      <th>koi_dicco_mra</th>\n",
       "      <th>koi_dicco_mdec</th>\n",
       "      <th>koi_dicco_msky</th>\n",
       "      <th>koi_dikco_mra</th>\n",
       "      <th>koi_dikco_mdec</th>\n",
       "      <th>koi_dikco_msky</th>\n",
       "    </tr>\n",
       "  </thead>\n",
       "  <tbody>\n",
       "    <tr>\n",
       "      <th>0</th>\n",
       "      <td>10797460</td>\n",
       "      <td>K00752.01</td>\n",
       "      <td>Kepler-227 b</td>\n",
       "      <td>CONFIRMED</td>\n",
       "      <td>CANDIDATE</td>\n",
       "      <td>1.000</td>\n",
       "      <td>0</td>\n",
       "      <td>0</td>\n",
       "      <td>0</td>\n",
       "      <td>0</td>\n",
       "      <td>...</td>\n",
       "      <td>0.430</td>\n",
       "      <td>0.940</td>\n",
       "      <td>-0.00020</td>\n",
       "      <td>-0.00055</td>\n",
       "      <td>-0.010</td>\n",
       "      <td>0.200</td>\n",
       "      <td>0.200</td>\n",
       "      <td>0.080</td>\n",
       "      <td>0.310</td>\n",
       "      <td>0.320</td>\n",
       "    </tr>\n",
       "    <tr>\n",
       "      <th>1</th>\n",
       "      <td>10797460</td>\n",
       "      <td>K00752.02</td>\n",
       "      <td>Kepler-227 c</td>\n",
       "      <td>CONFIRMED</td>\n",
       "      <td>CANDIDATE</td>\n",
       "      <td>0.969</td>\n",
       "      <td>0</td>\n",
       "      <td>0</td>\n",
       "      <td>0</td>\n",
       "      <td>0</td>\n",
       "      <td>...</td>\n",
       "      <td>-0.630</td>\n",
       "      <td>1.230</td>\n",
       "      <td>0.00066</td>\n",
       "      <td>-0.00105</td>\n",
       "      <td>0.390</td>\n",
       "      <td>0.000</td>\n",
       "      <td>0.390</td>\n",
       "      <td>0.490</td>\n",
       "      <td>0.120</td>\n",
       "      <td>0.500</td>\n",
       "    </tr>\n",
       "    <tr>\n",
       "      <th>2</th>\n",
       "      <td>10811496</td>\n",
       "      <td>K00753.01</td>\n",
       "      <td>NaN</td>\n",
       "      <td>CANDIDATE</td>\n",
       "      <td>CANDIDATE</td>\n",
       "      <td>0.000</td>\n",
       "      <td>0</td>\n",
       "      <td>0</td>\n",
       "      <td>0</td>\n",
       "      <td>0</td>\n",
       "      <td>...</td>\n",
       "      <td>-0.021</td>\n",
       "      <td>-0.038</td>\n",
       "      <td>0.00070</td>\n",
       "      <td>0.00060</td>\n",
       "      <td>-0.025</td>\n",
       "      <td>-0.034</td>\n",
       "      <td>0.042</td>\n",
       "      <td>0.002</td>\n",
       "      <td>-0.027</td>\n",
       "      <td>0.027</td>\n",
       "    </tr>\n",
       "    <tr>\n",
       "      <th>3</th>\n",
       "      <td>10848459</td>\n",
       "      <td>K00754.01</td>\n",
       "      <td>NaN</td>\n",
       "      <td>FALSE POSITIVE</td>\n",
       "      <td>FALSE POSITIVE</td>\n",
       "      <td>0.000</td>\n",
       "      <td>0</td>\n",
       "      <td>1</td>\n",
       "      <td>0</td>\n",
       "      <td>0</td>\n",
       "      <td>...</td>\n",
       "      <td>-0.111</td>\n",
       "      <td>0.002</td>\n",
       "      <td>0.00302</td>\n",
       "      <td>-0.00142</td>\n",
       "      <td>-0.249</td>\n",
       "      <td>0.147</td>\n",
       "      <td>0.289</td>\n",
       "      <td>-0.257</td>\n",
       "      <td>0.099</td>\n",
       "      <td>0.276</td>\n",
       "    </tr>\n",
       "    <tr>\n",
       "      <th>4</th>\n",
       "      <td>10854555</td>\n",
       "      <td>K00755.01</td>\n",
       "      <td>Kepler-664 b</td>\n",
       "      <td>CONFIRMED</td>\n",
       "      <td>CANDIDATE</td>\n",
       "      <td>1.000</td>\n",
       "      <td>0</td>\n",
       "      <td>0</td>\n",
       "      <td>0</td>\n",
       "      <td>0</td>\n",
       "      <td>...</td>\n",
       "      <td>-0.010</td>\n",
       "      <td>0.230</td>\n",
       "      <td>0.00008</td>\n",
       "      <td>-0.00007</td>\n",
       "      <td>0.030</td>\n",
       "      <td>-0.090</td>\n",
       "      <td>0.100</td>\n",
       "      <td>0.070</td>\n",
       "      <td>0.020</td>\n",
       "      <td>0.070</td>\n",
       "    </tr>\n",
       "  </tbody>\n",
       "</table>\n",
       "<p>5 rows × 70 columns</p>\n",
       "</div>"
      ],
      "text/plain": [
       "      kepid kepoi_name   kepler_name koi_disposition koi_pdisposition  \\\n",
       "0  10797460  K00752.01  Kepler-227 b       CONFIRMED        CANDIDATE   \n",
       "1  10797460  K00752.02  Kepler-227 c       CONFIRMED        CANDIDATE   \n",
       "2  10811496  K00753.01           NaN       CANDIDATE        CANDIDATE   \n",
       "3  10848459  K00754.01           NaN  FALSE POSITIVE   FALSE POSITIVE   \n",
       "4  10854555  K00755.01  Kepler-664 b       CONFIRMED        CANDIDATE   \n",
       "\n",
       "   koi_score  koi_fpflag_nt  koi_fpflag_ss  koi_fpflag_co  koi_fpflag_ec  ...  \\\n",
       "0      1.000              0              0              0              0  ...   \n",
       "1      0.969              0              0              0              0  ...   \n",
       "2      0.000              0              0              0              0  ...   \n",
       "3      0.000              0              1              0              0  ...   \n",
       "4      1.000              0              0              0              0  ...   \n",
       "\n",
       "  koi_fwm_srao  koi_fwm_sdeco  koi_fwm_prao  koi_fwm_pdeco  koi_dicco_mra  \\\n",
       "0        0.430          0.940      -0.00020       -0.00055         -0.010   \n",
       "1       -0.630          1.230       0.00066       -0.00105          0.390   \n",
       "2       -0.021         -0.038       0.00070        0.00060         -0.025   \n",
       "3       -0.111          0.002       0.00302       -0.00142         -0.249   \n",
       "4       -0.010          0.230       0.00008       -0.00007          0.030   \n",
       "\n",
       "   koi_dicco_mdec  koi_dicco_msky  koi_dikco_mra  koi_dikco_mdec  \\\n",
       "0           0.200           0.200          0.080           0.310   \n",
       "1           0.000           0.390          0.490           0.120   \n",
       "2          -0.034           0.042          0.002          -0.027   \n",
       "3           0.147           0.289         -0.257           0.099   \n",
       "4          -0.090           0.100          0.070           0.020   \n",
       "\n",
       "   koi_dikco_msky  \n",
       "0           0.320  \n",
       "1           0.500  \n",
       "2           0.027  \n",
       "3           0.276  \n",
       "4           0.070  \n",
       "\n",
       "[5 rows x 70 columns]"
      ]
     },
     "execution_count": 7,
     "metadata": {},
     "output_type": "execute_result"
    }
   ],
   "source": [
    "df.head()"
   ]
  },
  {
   "cell_type": "code",
   "execution_count": 8,
   "metadata": {
    "scrolled": true
   },
   "outputs": [
    {
     "name": "stdout",
     "output_type": "stream",
     "text": [
      "<class 'pandas.core.frame.DataFrame'>\n",
      "RangeIndex: 9564 entries, 0 to 9563\n",
      "Data columns (total 70 columns):\n",
      " #   Column             Non-Null Count  Dtype  \n",
      "---  ------             --------------  -----  \n",
      " 0   kepid              9564 non-null   int64  \n",
      " 1   kepoi_name         9564 non-null   object \n",
      " 2   kepler_name        2365 non-null   object \n",
      " 3   koi_disposition    9564 non-null   object \n",
      " 4   koi_pdisposition   9564 non-null   object \n",
      " 5   koi_score          8054 non-null   float64\n",
      " 6   koi_fpflag_nt      9564 non-null   int64  \n",
      " 7   koi_fpflag_ss      9564 non-null   int64  \n",
      " 8   koi_fpflag_co      9564 non-null   int64  \n",
      " 9   koi_fpflag_ec      9564 non-null   int64  \n",
      " 10  koi_disp_prov      9564 non-null   object \n",
      " 11  koi_period         9564 non-null   float64\n",
      " 12  koi_time0bk        9564 non-null   float64\n",
      " 13  koi_time0          9564 non-null   float64\n",
      " 14  koi_eccen          9201 non-null   float64\n",
      " 15  koi_longp          0 non-null      float64\n",
      " 16  koi_impact         9201 non-null   float64\n",
      " 17  koi_duration       9564 non-null   float64\n",
      " 18  koi_ingress        0 non-null      float64\n",
      " 19  koi_depth          9201 non-null   float64\n",
      " 20  koi_ror            9201 non-null   float64\n",
      " 21  koi_srho           9243 non-null   float64\n",
      " 22  koi_fittype        9564 non-null   object \n",
      " 23  koi_prad           9201 non-null   float64\n",
      " 24  koi_sma            9201 non-null   float64\n",
      " 25  koi_incl           9200 non-null   float64\n",
      " 26  koi_teq            9201 non-null   float64\n",
      " 27  koi_insol          9243 non-null   float64\n",
      " 28  koi_dor            9201 non-null   float64\n",
      " 29  koi_limbdark_mod   9201 non-null   object \n",
      " 30  koi_max_sngle_ev   8422 non-null   float64\n",
      " 31  koi_max_mult_ev    8422 non-null   float64\n",
      " 32  koi_model_snr      9201 non-null   float64\n",
      " 33  koi_count          9564 non-null   int64  \n",
      " 34  koi_num_transits   8422 non-null   float64\n",
      " 35  koi_tce_plnt_num   9218 non-null   float64\n",
      " 36  koi_tce_delivname  9218 non-null   object \n",
      " 37  koi_quarters       8422 non-null   float64\n",
      " 38  koi_bin_oedp_sig   8054 non-null   float64\n",
      " 39  koi_trans_mod      9201 non-null   object \n",
      " 40  koi_steff          9201 non-null   float64\n",
      " 41  koi_slogg          9201 non-null   float64\n",
      " 42  koi_smet           9178 non-null   float64\n",
      " 43  koi_srad           9201 non-null   float64\n",
      " 44  koi_smass          9201 non-null   float64\n",
      " 45  koi_sage           0 non-null      float64\n",
      " 46  koi_sparprov       9201 non-null   object \n",
      " 47  ra                 9564 non-null   float64\n",
      " 48  dec                9564 non-null   float64\n",
      " 49  koi_kepmag         9563 non-null   float64\n",
      " 50  koi_gmag           9523 non-null   float64\n",
      " 51  koi_rmag           9555 non-null   float64\n",
      " 52  koi_imag           9410 non-null   float64\n",
      " 53  koi_zmag           8951 non-null   float64\n",
      " 54  koi_jmag           9539 non-null   float64\n",
      " 55  koi_hmag           9539 non-null   float64\n",
      " 56  koi_kmag           9539 non-null   float64\n",
      " 57  koi_fwm_stat_sig   8488 non-null   float64\n",
      " 58  koi_fwm_sra        9058 non-null   float64\n",
      " 59  koi_fwm_sdec       9058 non-null   float64\n",
      " 60  koi_fwm_srao       9109 non-null   float64\n",
      " 61  koi_fwm_sdeco      9109 non-null   float64\n",
      " 62  koi_fwm_prao       8734 non-null   float64\n",
      " 63  koi_fwm_pdeco      8747 non-null   float64\n",
      " 64  koi_dicco_mra      8965 non-null   float64\n",
      " 65  koi_dicco_mdec     8965 non-null   float64\n",
      " 66  koi_dicco_msky     8965 non-null   float64\n",
      " 67  koi_dikco_mra      8994 non-null   float64\n",
      " 68  koi_dikco_mdec     8994 non-null   float64\n",
      " 69  koi_dikco_msky     8994 non-null   float64\n",
      "dtypes: float64(54), int64(6), object(10)\n",
      "memory usage: 5.1+ MB\n"
     ]
    }
   ],
   "source": [
    "df.info()"
   ]
  },
  {
   "cell_type": "code",
   "execution_count": 9,
   "metadata": {
    "scrolled": true
   },
   "outputs": [
    {
     "data": {
      "text/html": [
       "<div>\n",
       "<style scoped>\n",
       "    .dataframe tbody tr th:only-of-type {\n",
       "        vertical-align: middle;\n",
       "    }\n",
       "\n",
       "    .dataframe tbody tr th {\n",
       "        vertical-align: top;\n",
       "    }\n",
       "\n",
       "    .dataframe thead th {\n",
       "        text-align: right;\n",
       "    }\n",
       "</style>\n",
       "<table border=\"1\" class=\"dataframe\">\n",
       "  <thead>\n",
       "    <tr style=\"text-align: right;\">\n",
       "      <th></th>\n",
       "      <th>kepid</th>\n",
       "      <th>koi_score</th>\n",
       "      <th>koi_fpflag_nt</th>\n",
       "      <th>koi_fpflag_ss</th>\n",
       "      <th>koi_fpflag_co</th>\n",
       "      <th>koi_fpflag_ec</th>\n",
       "      <th>koi_period</th>\n",
       "      <th>koi_time0bk</th>\n",
       "      <th>koi_time0</th>\n",
       "      <th>koi_eccen</th>\n",
       "      <th>...</th>\n",
       "      <th>koi_fwm_srao</th>\n",
       "      <th>koi_fwm_sdeco</th>\n",
       "      <th>koi_fwm_prao</th>\n",
       "      <th>koi_fwm_pdeco</th>\n",
       "      <th>koi_dicco_mra</th>\n",
       "      <th>koi_dicco_mdec</th>\n",
       "      <th>koi_dicco_msky</th>\n",
       "      <th>koi_dikco_mra</th>\n",
       "      <th>koi_dikco_mdec</th>\n",
       "      <th>koi_dikco_msky</th>\n",
       "    </tr>\n",
       "  </thead>\n",
       "  <tbody>\n",
       "    <tr>\n",
       "      <th>count</th>\n",
       "      <td>9.564000e+03</td>\n",
       "      <td>8054.000000</td>\n",
       "      <td>9564.000000</td>\n",
       "      <td>9564.000000</td>\n",
       "      <td>9564.000000</td>\n",
       "      <td>9564.000000</td>\n",
       "      <td>9564.000000</td>\n",
       "      <td>9564.000000</td>\n",
       "      <td>9.564000e+03</td>\n",
       "      <td>9201.0</td>\n",
       "      <td>...</td>\n",
       "      <td>9109.000000</td>\n",
       "      <td>9109.000000</td>\n",
       "      <td>8734.000000</td>\n",
       "      <td>8747.000000</td>\n",
       "      <td>8965.000000</td>\n",
       "      <td>8965.000000</td>\n",
       "      <td>8965.000000</td>\n",
       "      <td>8994.000000</td>\n",
       "      <td>8994.000000</td>\n",
       "      <td>8994.000000</td>\n",
       "    </tr>\n",
       "    <tr>\n",
       "      <th>mean</th>\n",
       "      <td>7.690628e+06</td>\n",
       "      <td>0.480829</td>\n",
       "      <td>0.208595</td>\n",
       "      <td>0.232748</td>\n",
       "      <td>0.197512</td>\n",
       "      <td>0.120033</td>\n",
       "      <td>75.671358</td>\n",
       "      <td>166.183251</td>\n",
       "      <td>2.454999e+06</td>\n",
       "      <td>0.0</td>\n",
       "      <td>...</td>\n",
       "      <td>-0.316136</td>\n",
       "      <td>-0.165817</td>\n",
       "      <td>-0.000097</td>\n",
       "      <td>-0.000714</td>\n",
       "      <td>-0.012281</td>\n",
       "      <td>-0.045420</td>\n",
       "      <td>1.866561</td>\n",
       "      <td>-0.024244</td>\n",
       "      <td>-0.076749</td>\n",
       "      <td>1.812566</td>\n",
       "    </tr>\n",
       "    <tr>\n",
       "      <th>std</th>\n",
       "      <td>2.653459e+06</td>\n",
       "      <td>0.476928</td>\n",
       "      <td>4.767290</td>\n",
       "      <td>0.422605</td>\n",
       "      <td>0.398142</td>\n",
       "      <td>0.325018</td>\n",
       "      <td>1334.744046</td>\n",
       "      <td>67.918960</td>\n",
       "      <td>6.791896e+01</td>\n",
       "      <td>0.0</td>\n",
       "      <td>...</td>\n",
       "      <td>20.254777</td>\n",
       "      <td>20.534655</td>\n",
       "      <td>0.058225</td>\n",
       "      <td>0.092987</td>\n",
       "      <td>2.406550</td>\n",
       "      <td>2.573558</td>\n",
       "      <td>2.988742</td>\n",
       "      <td>2.382286</td>\n",
       "      <td>2.553758</td>\n",
       "      <td>2.986376</td>\n",
       "    </tr>\n",
       "    <tr>\n",
       "      <th>min</th>\n",
       "      <td>7.574500e+05</td>\n",
       "      <td>0.000000</td>\n",
       "      <td>0.000000</td>\n",
       "      <td>0.000000</td>\n",
       "      <td>0.000000</td>\n",
       "      <td>0.000000</td>\n",
       "      <td>0.241843</td>\n",
       "      <td>120.515914</td>\n",
       "      <td>2.454954e+06</td>\n",
       "      <td>0.0</td>\n",
       "      <td>...</td>\n",
       "      <td>-742.430000</td>\n",
       "      <td>-417.900000</td>\n",
       "      <td>-4.000000</td>\n",
       "      <td>-6.000000</td>\n",
       "      <td>-25.100000</td>\n",
       "      <td>-75.900000</td>\n",
       "      <td>0.000000</td>\n",
       "      <td>-27.800000</td>\n",
       "      <td>-76.600000</td>\n",
       "      <td>0.000000</td>\n",
       "    </tr>\n",
       "    <tr>\n",
       "      <th>25%</th>\n",
       "      <td>5.556034e+06</td>\n",
       "      <td>0.000000</td>\n",
       "      <td>0.000000</td>\n",
       "      <td>0.000000</td>\n",
       "      <td>0.000000</td>\n",
       "      <td>0.000000</td>\n",
       "      <td>2.733684</td>\n",
       "      <td>132.761718</td>\n",
       "      <td>2.454966e+06</td>\n",
       "      <td>0.0</td>\n",
       "      <td>...</td>\n",
       "      <td>-0.600000</td>\n",
       "      <td>-0.680000</td>\n",
       "      <td>-0.000210</td>\n",
       "      <td>-0.000220</td>\n",
       "      <td>-0.320000</td>\n",
       "      <td>-0.387000</td>\n",
       "      <td>0.170000</td>\n",
       "      <td>-0.310000</td>\n",
       "      <td>-0.390000</td>\n",
       "      <td>0.210000</td>\n",
       "    </tr>\n",
       "    <tr>\n",
       "      <th>50%</th>\n",
       "      <td>7.906892e+06</td>\n",
       "      <td>0.334000</td>\n",
       "      <td>0.000000</td>\n",
       "      <td>0.000000</td>\n",
       "      <td>0.000000</td>\n",
       "      <td>0.000000</td>\n",
       "      <td>9.752831</td>\n",
       "      <td>137.224595</td>\n",
       "      <td>2.454970e+06</td>\n",
       "      <td>0.0</td>\n",
       "      <td>...</td>\n",
       "      <td>-0.000500</td>\n",
       "      <td>-0.034000</td>\n",
       "      <td>0.000000</td>\n",
       "      <td>0.000000</td>\n",
       "      <td>0.000000</td>\n",
       "      <td>0.000000</td>\n",
       "      <td>0.610000</td>\n",
       "      <td>-0.004000</td>\n",
       "      <td>-0.017000</td>\n",
       "      <td>0.583000</td>\n",
       "    </tr>\n",
       "    <tr>\n",
       "      <th>75%</th>\n",
       "      <td>9.873066e+06</td>\n",
       "      <td>0.998000</td>\n",
       "      <td>0.000000</td>\n",
       "      <td>0.000000</td>\n",
       "      <td>0.000000</td>\n",
       "      <td>0.000000</td>\n",
       "      <td>40.715178</td>\n",
       "      <td>170.694603</td>\n",
       "      <td>2.455004e+06</td>\n",
       "      <td>0.0</td>\n",
       "      <td>...</td>\n",
       "      <td>0.570000</td>\n",
       "      <td>0.500000</td>\n",
       "      <td>0.000240</td>\n",
       "      <td>0.000240</td>\n",
       "      <td>0.309000</td>\n",
       "      <td>0.300000</td>\n",
       "      <td>2.160000</td>\n",
       "      <td>0.290000</td>\n",
       "      <td>0.300000</td>\n",
       "      <td>1.970000</td>\n",
       "    </tr>\n",
       "    <tr>\n",
       "      <th>max</th>\n",
       "      <td>1.293514e+07</td>\n",
       "      <td>1.000000</td>\n",
       "      <td>465.000000</td>\n",
       "      <td>1.000000</td>\n",
       "      <td>1.000000</td>\n",
       "      <td>1.000000</td>\n",
       "      <td>129995.778400</td>\n",
       "      <td>1472.522306</td>\n",
       "      <td>2.456306e+06</td>\n",
       "      <td>0.0</td>\n",
       "      <td>...</td>\n",
       "      <td>549.500000</td>\n",
       "      <td>712.500000</td>\n",
       "      <td>1.190000</td>\n",
       "      <td>5.000000</td>\n",
       "      <td>45.680000</td>\n",
       "      <td>27.500000</td>\n",
       "      <td>88.600000</td>\n",
       "      <td>46.570000</td>\n",
       "      <td>34.000000</td>\n",
       "      <td>89.600000</td>\n",
       "    </tr>\n",
       "  </tbody>\n",
       "</table>\n",
       "<p>8 rows × 60 columns</p>\n",
       "</div>"
      ],
      "text/plain": [
       "              kepid    koi_score  koi_fpflag_nt  koi_fpflag_ss  koi_fpflag_co  \\\n",
       "count  9.564000e+03  8054.000000    9564.000000    9564.000000    9564.000000   \n",
       "mean   7.690628e+06     0.480829       0.208595       0.232748       0.197512   \n",
       "std    2.653459e+06     0.476928       4.767290       0.422605       0.398142   \n",
       "min    7.574500e+05     0.000000       0.000000       0.000000       0.000000   \n",
       "25%    5.556034e+06     0.000000       0.000000       0.000000       0.000000   \n",
       "50%    7.906892e+06     0.334000       0.000000       0.000000       0.000000   \n",
       "75%    9.873066e+06     0.998000       0.000000       0.000000       0.000000   \n",
       "max    1.293514e+07     1.000000     465.000000       1.000000       1.000000   \n",
       "\n",
       "       koi_fpflag_ec     koi_period  koi_time0bk     koi_time0  koi_eccen  \\\n",
       "count    9564.000000    9564.000000  9564.000000  9.564000e+03     9201.0   \n",
       "mean        0.120033      75.671358   166.183251  2.454999e+06        0.0   \n",
       "std         0.325018    1334.744046    67.918960  6.791896e+01        0.0   \n",
       "min         0.000000       0.241843   120.515914  2.454954e+06        0.0   \n",
       "25%         0.000000       2.733684   132.761718  2.454966e+06        0.0   \n",
       "50%         0.000000       9.752831   137.224595  2.454970e+06        0.0   \n",
       "75%         0.000000      40.715178   170.694603  2.455004e+06        0.0   \n",
       "max         1.000000  129995.778400  1472.522306  2.456306e+06        0.0   \n",
       "\n",
       "       ...  koi_fwm_srao  koi_fwm_sdeco  koi_fwm_prao  koi_fwm_pdeco  \\\n",
       "count  ...   9109.000000    9109.000000   8734.000000    8747.000000   \n",
       "mean   ...     -0.316136      -0.165817     -0.000097      -0.000714   \n",
       "std    ...     20.254777      20.534655      0.058225       0.092987   \n",
       "min    ...   -742.430000    -417.900000     -4.000000      -6.000000   \n",
       "25%    ...     -0.600000      -0.680000     -0.000210      -0.000220   \n",
       "50%    ...     -0.000500      -0.034000      0.000000       0.000000   \n",
       "75%    ...      0.570000       0.500000      0.000240       0.000240   \n",
       "max    ...    549.500000     712.500000      1.190000       5.000000   \n",
       "\n",
       "       koi_dicco_mra  koi_dicco_mdec  koi_dicco_msky  koi_dikco_mra  \\\n",
       "count    8965.000000     8965.000000     8965.000000    8994.000000   \n",
       "mean       -0.012281       -0.045420        1.866561      -0.024244   \n",
       "std         2.406550        2.573558        2.988742       2.382286   \n",
       "min       -25.100000      -75.900000        0.000000     -27.800000   \n",
       "25%        -0.320000       -0.387000        0.170000      -0.310000   \n",
       "50%         0.000000        0.000000        0.610000      -0.004000   \n",
       "75%         0.309000        0.300000        2.160000       0.290000   \n",
       "max        45.680000       27.500000       88.600000      46.570000   \n",
       "\n",
       "       koi_dikco_mdec  koi_dikco_msky  \n",
       "count     8994.000000     8994.000000  \n",
       "mean        -0.076749        1.812566  \n",
       "std          2.553758        2.986376  \n",
       "min        -76.600000        0.000000  \n",
       "25%         -0.390000        0.210000  \n",
       "50%         -0.017000        0.583000  \n",
       "75%          0.300000        1.970000  \n",
       "max         34.000000       89.600000  \n",
       "\n",
       "[8 rows x 60 columns]"
      ]
     },
     "execution_count": 9,
     "metadata": {},
     "output_type": "execute_result"
    }
   ],
   "source": [
    "df.describe()"
   ]
  },
  {
   "cell_type": "code",
   "execution_count": 10,
   "metadata": {},
   "outputs": [
    {
     "data": {
      "text/plain": [
       "FALSE POSITIVE    4847\n",
       "CANDIDATE         4717\n",
       "Name: koi_pdisposition, dtype: int64"
      ]
     },
     "execution_count": 10,
     "metadata": {},
     "output_type": "execute_result"
    }
   ],
   "source": [
    "df.koi_pdisposition.value_counts()"
   ]
  },
  {
   "cell_type": "code",
   "execution_count": 11,
   "metadata": {
    "scrolled": true
   },
   "outputs": [
    {
     "data": {
      "text/plain": [
       "True     7200\n",
       "False    2364\n",
       "dtype: int64"
      ]
     },
     "execution_count": 11,
     "metadata": {},
     "output_type": "execute_result"
    }
   ],
   "source": [
    "(df.koi_disposition == df.koi_pdisposition).value_counts()"
   ]
  },
  {
   "cell_type": "code",
   "execution_count": 12,
   "metadata": {},
   "outputs": [],
   "source": [
    "df_FP = df.loc[df.koi_disposition == \"FALSE POSITIVE\"]"
   ]
  },
  {
   "cell_type": "code",
   "execution_count": 13,
   "metadata": {
    "scrolled": true
   },
   "outputs": [
    {
     "data": {
      "text/plain": [
       "True     4839\n",
       "False       1\n",
       "dtype: int64"
      ]
     },
     "execution_count": 13,
     "metadata": {},
     "output_type": "execute_result"
    }
   ],
   "source": [
    "(df_FP.koi_disposition == df_FP.koi_pdisposition).value_counts()"
   ]
  },
  {
   "cell_type": "code",
   "execution_count": 14,
   "metadata": {
    "scrolled": false
   },
   "outputs": [
    {
     "name": "stdout",
     "output_type": "stream",
     "text": [
      "False    9564\n",
      "Name: kepid, dtype: int64\n",
      "False    9564\n",
      "Name: kepoi_name, dtype: int64\n",
      "True     7199\n",
      "False    2365\n",
      "Name: kepler_name, dtype: int64\n",
      "False    9564\n",
      "Name: koi_disposition, dtype: int64\n",
      "False    9564\n",
      "Name: koi_pdisposition, dtype: int64\n",
      "False    8054\n",
      "True     1510\n",
      "Name: koi_score, dtype: int64\n",
      "False    9564\n",
      "Name: koi_fpflag_nt, dtype: int64\n",
      "False    9564\n",
      "Name: koi_fpflag_ss, dtype: int64\n",
      "False    9564\n",
      "Name: koi_fpflag_co, dtype: int64\n",
      "False    9564\n",
      "Name: koi_fpflag_ec, dtype: int64\n",
      "False    9564\n",
      "Name: koi_disp_prov, dtype: int64\n",
      "False    9564\n",
      "Name: koi_period, dtype: int64\n",
      "False    9564\n",
      "Name: koi_time0bk, dtype: int64\n",
      "False    9564\n",
      "Name: koi_time0, dtype: int64\n",
      "False    9201\n",
      "True      363\n",
      "Name: koi_eccen, dtype: int64\n",
      "True    9564\n",
      "Name: koi_longp, dtype: int64\n",
      "False    9201\n",
      "True      363\n",
      "Name: koi_impact, dtype: int64\n",
      "False    9564\n",
      "Name: koi_duration, dtype: int64\n",
      "True    9564\n",
      "Name: koi_ingress, dtype: int64\n",
      "False    9201\n",
      "True      363\n",
      "Name: koi_depth, dtype: int64\n",
      "False    9201\n",
      "True      363\n",
      "Name: koi_ror, dtype: int64\n",
      "False    9243\n",
      "True      321\n",
      "Name: koi_srho, dtype: int64\n",
      "False    9564\n",
      "Name: koi_fittype, dtype: int64\n",
      "False    9201\n",
      "True      363\n",
      "Name: koi_prad, dtype: int64\n",
      "False    9201\n",
      "True      363\n",
      "Name: koi_sma, dtype: int64\n",
      "False    9200\n",
      "True      364\n",
      "Name: koi_incl, dtype: int64\n",
      "False    9201\n",
      "True      363\n",
      "Name: koi_teq, dtype: int64\n",
      "False    9243\n",
      "True      321\n",
      "Name: koi_insol, dtype: int64\n",
      "False    9201\n",
      "True      363\n",
      "Name: koi_dor, dtype: int64\n",
      "False    9201\n",
      "True      363\n",
      "Name: koi_limbdark_mod, dtype: int64\n",
      "False    8422\n",
      "True     1142\n",
      "Name: koi_max_sngle_ev, dtype: int64\n",
      "False    8422\n",
      "True     1142\n",
      "Name: koi_max_mult_ev, dtype: int64\n",
      "False    9201\n",
      "True      363\n",
      "Name: koi_model_snr, dtype: int64\n",
      "False    9564\n",
      "Name: koi_count, dtype: int64\n",
      "False    8422\n",
      "True     1142\n",
      "Name: koi_num_transits, dtype: int64\n",
      "False    9218\n",
      "True      346\n",
      "Name: koi_tce_plnt_num, dtype: int64\n",
      "False    9218\n",
      "True      346\n",
      "Name: koi_tce_delivname, dtype: int64\n",
      "False    8422\n",
      "True     1142\n",
      "Name: koi_quarters, dtype: int64\n",
      "False    8054\n",
      "True     1510\n",
      "Name: koi_bin_oedp_sig, dtype: int64\n",
      "False    9201\n",
      "True      363\n",
      "Name: koi_trans_mod, dtype: int64\n",
      "False    9201\n",
      "True      363\n",
      "Name: koi_steff, dtype: int64\n",
      "False    9201\n",
      "True      363\n",
      "Name: koi_slogg, dtype: int64\n",
      "False    9178\n",
      "True      386\n",
      "Name: koi_smet, dtype: int64\n",
      "False    9201\n",
      "True      363\n",
      "Name: koi_srad, dtype: int64\n",
      "False    9201\n",
      "True      363\n",
      "Name: koi_smass, dtype: int64\n",
      "True    9564\n",
      "Name: koi_sage, dtype: int64\n",
      "False    9201\n",
      "True      363\n",
      "Name: koi_sparprov, dtype: int64\n",
      "False    9564\n",
      "Name: ra, dtype: int64\n",
      "False    9564\n",
      "Name: dec, dtype: int64\n",
      "False    9563\n",
      "True        1\n",
      "Name: koi_kepmag, dtype: int64\n",
      "False    9523\n",
      "True       41\n",
      "Name: koi_gmag, dtype: int64\n",
      "False    9555\n",
      "True        9\n",
      "Name: koi_rmag, dtype: int64\n",
      "False    9410\n",
      "True      154\n",
      "Name: koi_imag, dtype: int64\n",
      "False    8951\n",
      "True      613\n",
      "Name: koi_zmag, dtype: int64\n",
      "False    9539\n",
      "True       25\n",
      "Name: koi_jmag, dtype: int64\n",
      "False    9539\n",
      "True       25\n",
      "Name: koi_hmag, dtype: int64\n",
      "False    9539\n",
      "True       25\n",
      "Name: koi_kmag, dtype: int64\n",
      "False    8488\n",
      "True     1076\n",
      "Name: koi_fwm_stat_sig, dtype: int64\n",
      "False    9058\n",
      "True      506\n",
      "Name: koi_fwm_sra, dtype: int64\n",
      "False    9058\n",
      "True      506\n",
      "Name: koi_fwm_sdec, dtype: int64\n",
      "False    9109\n",
      "True      455\n",
      "Name: koi_fwm_srao, dtype: int64\n",
      "False    9109\n",
      "True      455\n",
      "Name: koi_fwm_sdeco, dtype: int64\n",
      "False    8734\n",
      "True      830\n",
      "Name: koi_fwm_prao, dtype: int64\n",
      "False    8747\n",
      "True      817\n",
      "Name: koi_fwm_pdeco, dtype: int64\n",
      "False    8965\n",
      "True      599\n",
      "Name: koi_dicco_mra, dtype: int64\n",
      "False    8965\n",
      "True      599\n",
      "Name: koi_dicco_mdec, dtype: int64\n",
      "False    8965\n",
      "True      599\n",
      "Name: koi_dicco_msky, dtype: int64\n",
      "False    8994\n",
      "True      570\n",
      "Name: koi_dikco_mra, dtype: int64\n",
      "False    8994\n",
      "True      570\n",
      "Name: koi_dikco_mdec, dtype: int64\n",
      "False    8994\n",
      "True      570\n",
      "Name: koi_dikco_msky, dtype: int64\n"
     ]
    }
   ],
   "source": [
    "for col in df.columns:\n",
    "    print(df[col].isna().value_counts())"
   ]
  },
  {
   "cell_type": "markdown",
   "metadata": {},
   "source": [
    "## Drop obvious columns (ID etc) and rows of missing data"
   ]
  },
  {
   "cell_type": "markdown",
   "metadata": {},
   "source": [
    "### Initial Column Drop"
   ]
  },
  {
   "cell_type": "code",
   "execution_count": 15,
   "metadata": {},
   "outputs": [
    {
     "data": {
      "text/plain": [
       "70"
      ]
     },
     "execution_count": 15,
     "metadata": {},
     "output_type": "execute_result"
    }
   ],
   "source": [
    "len(df.columns)"
   ]
  },
  {
   "cell_type": "code",
   "execution_count": 16,
   "metadata": {
    "scrolled": true
   },
   "outputs": [
    {
     "data": {
      "text/html": [
       "<div>\n",
       "<style scoped>\n",
       "    .dataframe tbody tr th:only-of-type {\n",
       "        vertical-align: middle;\n",
       "    }\n",
       "\n",
       "    .dataframe tbody tr th {\n",
       "        vertical-align: top;\n",
       "    }\n",
       "\n",
       "    .dataframe thead th {\n",
       "        text-align: right;\n",
       "    }\n",
       "</style>\n",
       "<table border=\"1\" class=\"dataframe\">\n",
       "  <thead>\n",
       "    <tr style=\"text-align: right;\">\n",
       "      <th></th>\n",
       "      <th>kepid</th>\n",
       "      <th>kepoi_name</th>\n",
       "      <th>kepler_name</th>\n",
       "      <th>koi_disposition</th>\n",
       "      <th>koi_pdisposition</th>\n",
       "      <th>koi_score</th>\n",
       "      <th>koi_fpflag_nt</th>\n",
       "      <th>koi_fpflag_ss</th>\n",
       "      <th>koi_fpflag_co</th>\n",
       "      <th>koi_fpflag_ec</th>\n",
       "      <th>...</th>\n",
       "      <th>koi_fwm_srao</th>\n",
       "      <th>koi_fwm_sdeco</th>\n",
       "      <th>koi_fwm_prao</th>\n",
       "      <th>koi_fwm_pdeco</th>\n",
       "      <th>koi_dicco_mra</th>\n",
       "      <th>koi_dicco_mdec</th>\n",
       "      <th>koi_dicco_msky</th>\n",
       "      <th>koi_dikco_mra</th>\n",
       "      <th>koi_dikco_mdec</th>\n",
       "      <th>koi_dikco_msky</th>\n",
       "    </tr>\n",
       "  </thead>\n",
       "  <tbody>\n",
       "    <tr>\n",
       "      <th>0</th>\n",
       "      <td>10797460</td>\n",
       "      <td>K00752.01</td>\n",
       "      <td>Kepler-227 b</td>\n",
       "      <td>CONFIRMED</td>\n",
       "      <td>CANDIDATE</td>\n",
       "      <td>1.000</td>\n",
       "      <td>0</td>\n",
       "      <td>0</td>\n",
       "      <td>0</td>\n",
       "      <td>0</td>\n",
       "      <td>...</td>\n",
       "      <td>0.430</td>\n",
       "      <td>0.940</td>\n",
       "      <td>-0.00020</td>\n",
       "      <td>-0.00055</td>\n",
       "      <td>-0.010</td>\n",
       "      <td>0.200</td>\n",
       "      <td>0.200</td>\n",
       "      <td>0.080</td>\n",
       "      <td>0.310</td>\n",
       "      <td>0.320</td>\n",
       "    </tr>\n",
       "    <tr>\n",
       "      <th>1</th>\n",
       "      <td>10797460</td>\n",
       "      <td>K00752.02</td>\n",
       "      <td>Kepler-227 c</td>\n",
       "      <td>CONFIRMED</td>\n",
       "      <td>CANDIDATE</td>\n",
       "      <td>0.969</td>\n",
       "      <td>0</td>\n",
       "      <td>0</td>\n",
       "      <td>0</td>\n",
       "      <td>0</td>\n",
       "      <td>...</td>\n",
       "      <td>-0.630</td>\n",
       "      <td>1.230</td>\n",
       "      <td>0.00066</td>\n",
       "      <td>-0.00105</td>\n",
       "      <td>0.390</td>\n",
       "      <td>0.000</td>\n",
       "      <td>0.390</td>\n",
       "      <td>0.490</td>\n",
       "      <td>0.120</td>\n",
       "      <td>0.500</td>\n",
       "    </tr>\n",
       "    <tr>\n",
       "      <th>2</th>\n",
       "      <td>10811496</td>\n",
       "      <td>K00753.01</td>\n",
       "      <td>NaN</td>\n",
       "      <td>CANDIDATE</td>\n",
       "      <td>CANDIDATE</td>\n",
       "      <td>0.000</td>\n",
       "      <td>0</td>\n",
       "      <td>0</td>\n",
       "      <td>0</td>\n",
       "      <td>0</td>\n",
       "      <td>...</td>\n",
       "      <td>-0.021</td>\n",
       "      <td>-0.038</td>\n",
       "      <td>0.00070</td>\n",
       "      <td>0.00060</td>\n",
       "      <td>-0.025</td>\n",
       "      <td>-0.034</td>\n",
       "      <td>0.042</td>\n",
       "      <td>0.002</td>\n",
       "      <td>-0.027</td>\n",
       "      <td>0.027</td>\n",
       "    </tr>\n",
       "    <tr>\n",
       "      <th>3</th>\n",
       "      <td>10848459</td>\n",
       "      <td>K00754.01</td>\n",
       "      <td>NaN</td>\n",
       "      <td>FALSE POSITIVE</td>\n",
       "      <td>FALSE POSITIVE</td>\n",
       "      <td>0.000</td>\n",
       "      <td>0</td>\n",
       "      <td>1</td>\n",
       "      <td>0</td>\n",
       "      <td>0</td>\n",
       "      <td>...</td>\n",
       "      <td>-0.111</td>\n",
       "      <td>0.002</td>\n",
       "      <td>0.00302</td>\n",
       "      <td>-0.00142</td>\n",
       "      <td>-0.249</td>\n",
       "      <td>0.147</td>\n",
       "      <td>0.289</td>\n",
       "      <td>-0.257</td>\n",
       "      <td>0.099</td>\n",
       "      <td>0.276</td>\n",
       "    </tr>\n",
       "    <tr>\n",
       "      <th>4</th>\n",
       "      <td>10854555</td>\n",
       "      <td>K00755.01</td>\n",
       "      <td>Kepler-664 b</td>\n",
       "      <td>CONFIRMED</td>\n",
       "      <td>CANDIDATE</td>\n",
       "      <td>1.000</td>\n",
       "      <td>0</td>\n",
       "      <td>0</td>\n",
       "      <td>0</td>\n",
       "      <td>0</td>\n",
       "      <td>...</td>\n",
       "      <td>-0.010</td>\n",
       "      <td>0.230</td>\n",
       "      <td>0.00008</td>\n",
       "      <td>-0.00007</td>\n",
       "      <td>0.030</td>\n",
       "      <td>-0.090</td>\n",
       "      <td>0.100</td>\n",
       "      <td>0.070</td>\n",
       "      <td>0.020</td>\n",
       "      <td>0.070</td>\n",
       "    </tr>\n",
       "  </tbody>\n",
       "</table>\n",
       "<p>5 rows × 70 columns</p>\n",
       "</div>"
      ],
      "text/plain": [
       "      kepid kepoi_name   kepler_name koi_disposition koi_pdisposition  \\\n",
       "0  10797460  K00752.01  Kepler-227 b       CONFIRMED        CANDIDATE   \n",
       "1  10797460  K00752.02  Kepler-227 c       CONFIRMED        CANDIDATE   \n",
       "2  10811496  K00753.01           NaN       CANDIDATE        CANDIDATE   \n",
       "3  10848459  K00754.01           NaN  FALSE POSITIVE   FALSE POSITIVE   \n",
       "4  10854555  K00755.01  Kepler-664 b       CONFIRMED        CANDIDATE   \n",
       "\n",
       "   koi_score  koi_fpflag_nt  koi_fpflag_ss  koi_fpflag_co  koi_fpflag_ec  ...  \\\n",
       "0      1.000              0              0              0              0  ...   \n",
       "1      0.969              0              0              0              0  ...   \n",
       "2      0.000              0              0              0              0  ...   \n",
       "3      0.000              0              1              0              0  ...   \n",
       "4      1.000              0              0              0              0  ...   \n",
       "\n",
       "  koi_fwm_srao  koi_fwm_sdeco  koi_fwm_prao  koi_fwm_pdeco  koi_dicco_mra  \\\n",
       "0        0.430          0.940      -0.00020       -0.00055         -0.010   \n",
       "1       -0.630          1.230       0.00066       -0.00105          0.390   \n",
       "2       -0.021         -0.038       0.00070        0.00060         -0.025   \n",
       "3       -0.111          0.002       0.00302       -0.00142         -0.249   \n",
       "4       -0.010          0.230       0.00008       -0.00007          0.030   \n",
       "\n",
       "   koi_dicco_mdec  koi_dicco_msky  koi_dikco_mra  koi_dikco_mdec  \\\n",
       "0           0.200           0.200          0.080           0.310   \n",
       "1           0.000           0.390          0.490           0.120   \n",
       "2          -0.034           0.042          0.002          -0.027   \n",
       "3           0.147           0.289         -0.257           0.099   \n",
       "4          -0.090           0.100          0.070           0.020   \n",
       "\n",
       "   koi_dikco_msky  \n",
       "0           0.320  \n",
       "1           0.500  \n",
       "2           0.027  \n",
       "3           0.276  \n",
       "4           0.070  \n",
       "\n",
       "[5 rows x 70 columns]"
      ]
     },
     "execution_count": 16,
     "metadata": {},
     "output_type": "execute_result"
    }
   ],
   "source": [
    "df.head()"
   ]
  },
  {
   "cell_type": "code",
   "execution_count": 17,
   "metadata": {},
   "outputs": [],
   "source": [
    "drop_initial = ['kepid','kepler_name','koi_ingress','koi_longp','koi_sage'] #'kepoi_name' will be dropped for model"
   ]
  },
  {
   "cell_type": "code",
   "execution_count": 18,
   "metadata": {},
   "outputs": [],
   "source": [
    "df_initial_drop = df.drop(drop_initial,axis=1)"
   ]
  },
  {
   "cell_type": "code",
   "execution_count": 19,
   "metadata": {
    "scrolled": true
   },
   "outputs": [
    {
     "data": {
      "text/html": [
       "<div>\n",
       "<style scoped>\n",
       "    .dataframe tbody tr th:only-of-type {\n",
       "        vertical-align: middle;\n",
       "    }\n",
       "\n",
       "    .dataframe tbody tr th {\n",
       "        vertical-align: top;\n",
       "    }\n",
       "\n",
       "    .dataframe thead th {\n",
       "        text-align: right;\n",
       "    }\n",
       "</style>\n",
       "<table border=\"1\" class=\"dataframe\">\n",
       "  <thead>\n",
       "    <tr style=\"text-align: right;\">\n",
       "      <th></th>\n",
       "      <th>kepoi_name</th>\n",
       "      <th>koi_disposition</th>\n",
       "      <th>koi_pdisposition</th>\n",
       "      <th>koi_score</th>\n",
       "      <th>koi_fpflag_nt</th>\n",
       "      <th>koi_fpflag_ss</th>\n",
       "      <th>koi_fpflag_co</th>\n",
       "      <th>koi_fpflag_ec</th>\n",
       "      <th>koi_disp_prov</th>\n",
       "      <th>koi_period</th>\n",
       "      <th>...</th>\n",
       "      <th>koi_fwm_srao</th>\n",
       "      <th>koi_fwm_sdeco</th>\n",
       "      <th>koi_fwm_prao</th>\n",
       "      <th>koi_fwm_pdeco</th>\n",
       "      <th>koi_dicco_mra</th>\n",
       "      <th>koi_dicco_mdec</th>\n",
       "      <th>koi_dicco_msky</th>\n",
       "      <th>koi_dikco_mra</th>\n",
       "      <th>koi_dikco_mdec</th>\n",
       "      <th>koi_dikco_msky</th>\n",
       "    </tr>\n",
       "  </thead>\n",
       "  <tbody>\n",
       "    <tr>\n",
       "      <th>0</th>\n",
       "      <td>K00752.01</td>\n",
       "      <td>CONFIRMED</td>\n",
       "      <td>CANDIDATE</td>\n",
       "      <td>1.000</td>\n",
       "      <td>0</td>\n",
       "      <td>0</td>\n",
       "      <td>0</td>\n",
       "      <td>0</td>\n",
       "      <td>q1_q17_dr25_sup_koi</td>\n",
       "      <td>9.488036</td>\n",
       "      <td>...</td>\n",
       "      <td>0.430</td>\n",
       "      <td>0.940</td>\n",
       "      <td>-0.00020</td>\n",
       "      <td>-0.00055</td>\n",
       "      <td>-0.010</td>\n",
       "      <td>0.200</td>\n",
       "      <td>0.200</td>\n",
       "      <td>0.080</td>\n",
       "      <td>0.310</td>\n",
       "      <td>0.320</td>\n",
       "    </tr>\n",
       "    <tr>\n",
       "      <th>1</th>\n",
       "      <td>K00752.02</td>\n",
       "      <td>CONFIRMED</td>\n",
       "      <td>CANDIDATE</td>\n",
       "      <td>0.969</td>\n",
       "      <td>0</td>\n",
       "      <td>0</td>\n",
       "      <td>0</td>\n",
       "      <td>0</td>\n",
       "      <td>q1_q17_dr25_sup_koi</td>\n",
       "      <td>54.418383</td>\n",
       "      <td>...</td>\n",
       "      <td>-0.630</td>\n",
       "      <td>1.230</td>\n",
       "      <td>0.00066</td>\n",
       "      <td>-0.00105</td>\n",
       "      <td>0.390</td>\n",
       "      <td>0.000</td>\n",
       "      <td>0.390</td>\n",
       "      <td>0.490</td>\n",
       "      <td>0.120</td>\n",
       "      <td>0.500</td>\n",
       "    </tr>\n",
       "    <tr>\n",
       "      <th>2</th>\n",
       "      <td>K00753.01</td>\n",
       "      <td>CANDIDATE</td>\n",
       "      <td>CANDIDATE</td>\n",
       "      <td>0.000</td>\n",
       "      <td>0</td>\n",
       "      <td>0</td>\n",
       "      <td>0</td>\n",
       "      <td>0</td>\n",
       "      <td>q1_q17_dr25_sup_koi</td>\n",
       "      <td>19.899140</td>\n",
       "      <td>...</td>\n",
       "      <td>-0.021</td>\n",
       "      <td>-0.038</td>\n",
       "      <td>0.00070</td>\n",
       "      <td>0.00060</td>\n",
       "      <td>-0.025</td>\n",
       "      <td>-0.034</td>\n",
       "      <td>0.042</td>\n",
       "      <td>0.002</td>\n",
       "      <td>-0.027</td>\n",
       "      <td>0.027</td>\n",
       "    </tr>\n",
       "    <tr>\n",
       "      <th>3</th>\n",
       "      <td>K00754.01</td>\n",
       "      <td>FALSE POSITIVE</td>\n",
       "      <td>FALSE POSITIVE</td>\n",
       "      <td>0.000</td>\n",
       "      <td>0</td>\n",
       "      <td>1</td>\n",
       "      <td>0</td>\n",
       "      <td>0</td>\n",
       "      <td>q1_q17_dr25_sup_koi</td>\n",
       "      <td>1.736952</td>\n",
       "      <td>...</td>\n",
       "      <td>-0.111</td>\n",
       "      <td>0.002</td>\n",
       "      <td>0.00302</td>\n",
       "      <td>-0.00142</td>\n",
       "      <td>-0.249</td>\n",
       "      <td>0.147</td>\n",
       "      <td>0.289</td>\n",
       "      <td>-0.257</td>\n",
       "      <td>0.099</td>\n",
       "      <td>0.276</td>\n",
       "    </tr>\n",
       "    <tr>\n",
       "      <th>4</th>\n",
       "      <td>K00755.01</td>\n",
       "      <td>CONFIRMED</td>\n",
       "      <td>CANDIDATE</td>\n",
       "      <td>1.000</td>\n",
       "      <td>0</td>\n",
       "      <td>0</td>\n",
       "      <td>0</td>\n",
       "      <td>0</td>\n",
       "      <td>q1_q17_dr25_sup_koi</td>\n",
       "      <td>2.525592</td>\n",
       "      <td>...</td>\n",
       "      <td>-0.010</td>\n",
       "      <td>0.230</td>\n",
       "      <td>0.00008</td>\n",
       "      <td>-0.00007</td>\n",
       "      <td>0.030</td>\n",
       "      <td>-0.090</td>\n",
       "      <td>0.100</td>\n",
       "      <td>0.070</td>\n",
       "      <td>0.020</td>\n",
       "      <td>0.070</td>\n",
       "    </tr>\n",
       "  </tbody>\n",
       "</table>\n",
       "<p>5 rows × 65 columns</p>\n",
       "</div>"
      ],
      "text/plain": [
       "  kepoi_name koi_disposition koi_pdisposition  koi_score  koi_fpflag_nt  \\\n",
       "0  K00752.01       CONFIRMED        CANDIDATE      1.000              0   \n",
       "1  K00752.02       CONFIRMED        CANDIDATE      0.969              0   \n",
       "2  K00753.01       CANDIDATE        CANDIDATE      0.000              0   \n",
       "3  K00754.01  FALSE POSITIVE   FALSE POSITIVE      0.000              0   \n",
       "4  K00755.01       CONFIRMED        CANDIDATE      1.000              0   \n",
       "\n",
       "   koi_fpflag_ss  koi_fpflag_co  koi_fpflag_ec        koi_disp_prov  \\\n",
       "0              0              0              0  q1_q17_dr25_sup_koi   \n",
       "1              0              0              0  q1_q17_dr25_sup_koi   \n",
       "2              0              0              0  q1_q17_dr25_sup_koi   \n",
       "3              1              0              0  q1_q17_dr25_sup_koi   \n",
       "4              0              0              0  q1_q17_dr25_sup_koi   \n",
       "\n",
       "   koi_period  ...  koi_fwm_srao  koi_fwm_sdeco  koi_fwm_prao  koi_fwm_pdeco  \\\n",
       "0    9.488036  ...         0.430          0.940      -0.00020       -0.00055   \n",
       "1   54.418383  ...        -0.630          1.230       0.00066       -0.00105   \n",
       "2   19.899140  ...        -0.021         -0.038       0.00070        0.00060   \n",
       "3    1.736952  ...        -0.111          0.002       0.00302       -0.00142   \n",
       "4    2.525592  ...        -0.010          0.230       0.00008       -0.00007   \n",
       "\n",
       "   koi_dicco_mra  koi_dicco_mdec  koi_dicco_msky  koi_dikco_mra  \\\n",
       "0         -0.010           0.200           0.200          0.080   \n",
       "1          0.390           0.000           0.390          0.490   \n",
       "2         -0.025          -0.034           0.042          0.002   \n",
       "3         -0.249           0.147           0.289         -0.257   \n",
       "4          0.030          -0.090           0.100          0.070   \n",
       "\n",
       "  koi_dikco_mdec  koi_dikco_msky  \n",
       "0          0.310           0.320  \n",
       "1          0.120           0.500  \n",
       "2         -0.027           0.027  \n",
       "3          0.099           0.276  \n",
       "4          0.020           0.070  \n",
       "\n",
       "[5 rows x 65 columns]"
      ]
     },
     "execution_count": 19,
     "metadata": {},
     "output_type": "execute_result"
    }
   ],
   "source": [
    "df_initial_drop.head()"
   ]
  },
  {
   "cell_type": "markdown",
   "metadata": {},
   "source": [
    "### Drop rows of missing data"
   ]
  },
  {
   "cell_type": "code",
   "execution_count": 20,
   "metadata": {},
   "outputs": [
    {
     "name": "stdout",
     "output_type": "stream",
     "text": [
      "False    9564\n",
      "Name: kepoi_name, dtype: int64\n",
      "False    9564\n",
      "Name: koi_disposition, dtype: int64\n",
      "False    9564\n",
      "Name: koi_pdisposition, dtype: int64\n",
      "False    8054\n",
      "True     1510\n",
      "Name: koi_score, dtype: int64\n",
      "False    9564\n",
      "Name: koi_fpflag_nt, dtype: int64\n",
      "False    9564\n",
      "Name: koi_fpflag_ss, dtype: int64\n",
      "False    9564\n",
      "Name: koi_fpflag_co, dtype: int64\n",
      "False    9564\n",
      "Name: koi_fpflag_ec, dtype: int64\n",
      "False    9564\n",
      "Name: koi_disp_prov, dtype: int64\n",
      "False    9564\n",
      "Name: koi_period, dtype: int64\n",
      "False    9564\n",
      "Name: koi_time0bk, dtype: int64\n",
      "False    9564\n",
      "Name: koi_time0, dtype: int64\n",
      "False    9201\n",
      "True      363\n",
      "Name: koi_eccen, dtype: int64\n",
      "False    9201\n",
      "True      363\n",
      "Name: koi_impact, dtype: int64\n",
      "False    9564\n",
      "Name: koi_duration, dtype: int64\n",
      "False    9201\n",
      "True      363\n",
      "Name: koi_depth, dtype: int64\n",
      "False    9201\n",
      "True      363\n",
      "Name: koi_ror, dtype: int64\n",
      "False    9243\n",
      "True      321\n",
      "Name: koi_srho, dtype: int64\n",
      "False    9564\n",
      "Name: koi_fittype, dtype: int64\n",
      "False    9201\n",
      "True      363\n",
      "Name: koi_prad, dtype: int64\n",
      "False    9201\n",
      "True      363\n",
      "Name: koi_sma, dtype: int64\n",
      "False    9200\n",
      "True      364\n",
      "Name: koi_incl, dtype: int64\n",
      "False    9201\n",
      "True      363\n",
      "Name: koi_teq, dtype: int64\n",
      "False    9243\n",
      "True      321\n",
      "Name: koi_insol, dtype: int64\n",
      "False    9201\n",
      "True      363\n",
      "Name: koi_dor, dtype: int64\n",
      "False    9201\n",
      "True      363\n",
      "Name: koi_limbdark_mod, dtype: int64\n",
      "False    8422\n",
      "True     1142\n",
      "Name: koi_max_sngle_ev, dtype: int64\n",
      "False    8422\n",
      "True     1142\n",
      "Name: koi_max_mult_ev, dtype: int64\n",
      "False    9201\n",
      "True      363\n",
      "Name: koi_model_snr, dtype: int64\n",
      "False    9564\n",
      "Name: koi_count, dtype: int64\n",
      "False    8422\n",
      "True     1142\n",
      "Name: koi_num_transits, dtype: int64\n",
      "False    9218\n",
      "True      346\n",
      "Name: koi_tce_plnt_num, dtype: int64\n",
      "False    9218\n",
      "True      346\n",
      "Name: koi_tce_delivname, dtype: int64\n",
      "False    8422\n",
      "True     1142\n",
      "Name: koi_quarters, dtype: int64\n",
      "False    8054\n",
      "True     1510\n",
      "Name: koi_bin_oedp_sig, dtype: int64\n",
      "False    9201\n",
      "True      363\n",
      "Name: koi_trans_mod, dtype: int64\n",
      "False    9201\n",
      "True      363\n",
      "Name: koi_steff, dtype: int64\n",
      "False    9201\n",
      "True      363\n",
      "Name: koi_slogg, dtype: int64\n",
      "False    9178\n",
      "True      386\n",
      "Name: koi_smet, dtype: int64\n",
      "False    9201\n",
      "True      363\n",
      "Name: koi_srad, dtype: int64\n",
      "False    9201\n",
      "True      363\n",
      "Name: koi_smass, dtype: int64\n",
      "False    9201\n",
      "True      363\n",
      "Name: koi_sparprov, dtype: int64\n",
      "False    9564\n",
      "Name: ra, dtype: int64\n",
      "False    9564\n",
      "Name: dec, dtype: int64\n",
      "False    9563\n",
      "True        1\n",
      "Name: koi_kepmag, dtype: int64\n",
      "False    9523\n",
      "True       41\n",
      "Name: koi_gmag, dtype: int64\n",
      "False    9555\n",
      "True        9\n",
      "Name: koi_rmag, dtype: int64\n",
      "False    9410\n",
      "True      154\n",
      "Name: koi_imag, dtype: int64\n",
      "False    8951\n",
      "True      613\n",
      "Name: koi_zmag, dtype: int64\n",
      "False    9539\n",
      "True       25\n",
      "Name: koi_jmag, dtype: int64\n",
      "False    9539\n",
      "True       25\n",
      "Name: koi_hmag, dtype: int64\n",
      "False    9539\n",
      "True       25\n",
      "Name: koi_kmag, dtype: int64\n",
      "False    8488\n",
      "True     1076\n",
      "Name: koi_fwm_stat_sig, dtype: int64\n",
      "False    9058\n",
      "True      506\n",
      "Name: koi_fwm_sra, dtype: int64\n",
      "False    9058\n",
      "True      506\n",
      "Name: koi_fwm_sdec, dtype: int64\n",
      "False    9109\n",
      "True      455\n",
      "Name: koi_fwm_srao, dtype: int64\n",
      "False    9109\n",
      "True      455\n",
      "Name: koi_fwm_sdeco, dtype: int64\n",
      "False    8734\n",
      "True      830\n",
      "Name: koi_fwm_prao, dtype: int64\n",
      "False    8747\n",
      "True      817\n",
      "Name: koi_fwm_pdeco, dtype: int64\n",
      "False    8965\n",
      "True      599\n",
      "Name: koi_dicco_mra, dtype: int64\n",
      "False    8965\n",
      "True      599\n",
      "Name: koi_dicco_mdec, dtype: int64\n",
      "False    8965\n",
      "True      599\n",
      "Name: koi_dicco_msky, dtype: int64\n",
      "False    8994\n",
      "True      570\n",
      "Name: koi_dikco_mra, dtype: int64\n",
      "False    8994\n",
      "True      570\n",
      "Name: koi_dikco_mdec, dtype: int64\n",
      "False    8994\n",
      "True      570\n",
      "Name: koi_dikco_msky, dtype: int64\n"
     ]
    }
   ],
   "source": [
    "for col in df_initial_drop.columns:\n",
    "    print(df_initial_drop[col].isna().value_counts())"
   ]
  },
  {
   "cell_type": "code",
   "execution_count": 21,
   "metadata": {},
   "outputs": [],
   "source": [
    "df_initial_drop = df_initial_drop.dropna(subset=['koi_score','koi_quarters','koi_fwm_stat_sig','koi_dicco_mra','koi_model_snr','koi_zmag','koi_fwm_sra','koi_smet','koi_gmag','koi_rmag','koi_imag'], how='any')"
   ]
  },
  {
   "cell_type": "code",
   "execution_count": 22,
   "metadata": {
    "scrolled": true
   },
   "outputs": [
    {
     "name": "stdout",
     "output_type": "stream",
     "text": [
      "False    6682\n",
      "Name: kepoi_name, dtype: int64\n",
      "False    6682\n",
      "Name: koi_disposition, dtype: int64\n",
      "False    6682\n",
      "Name: koi_pdisposition, dtype: int64\n",
      "False    6682\n",
      "Name: koi_score, dtype: int64\n",
      "False    6682\n",
      "Name: koi_fpflag_nt, dtype: int64\n",
      "False    6682\n",
      "Name: koi_fpflag_ss, dtype: int64\n",
      "False    6682\n",
      "Name: koi_fpflag_co, dtype: int64\n",
      "False    6682\n",
      "Name: koi_fpflag_ec, dtype: int64\n",
      "False    6682\n",
      "Name: koi_disp_prov, dtype: int64\n",
      "False    6682\n",
      "Name: koi_period, dtype: int64\n",
      "False    6682\n",
      "Name: koi_time0bk, dtype: int64\n",
      "False    6682\n",
      "Name: koi_time0, dtype: int64\n",
      "False    6682\n",
      "Name: koi_eccen, dtype: int64\n",
      "False    6682\n",
      "Name: koi_impact, dtype: int64\n",
      "False    6682\n",
      "Name: koi_duration, dtype: int64\n",
      "False    6682\n",
      "Name: koi_depth, dtype: int64\n",
      "False    6682\n",
      "Name: koi_ror, dtype: int64\n",
      "False    6682\n",
      "Name: koi_srho, dtype: int64\n",
      "False    6682\n",
      "Name: koi_fittype, dtype: int64\n",
      "False    6682\n",
      "Name: koi_prad, dtype: int64\n",
      "False    6682\n",
      "Name: koi_sma, dtype: int64\n",
      "False    6682\n",
      "Name: koi_incl, dtype: int64\n",
      "False    6682\n",
      "Name: koi_teq, dtype: int64\n",
      "False    6682\n",
      "Name: koi_insol, dtype: int64\n",
      "False    6682\n",
      "Name: koi_dor, dtype: int64\n",
      "False    6682\n",
      "Name: koi_limbdark_mod, dtype: int64\n",
      "False    6682\n",
      "Name: koi_max_sngle_ev, dtype: int64\n",
      "False    6682\n",
      "Name: koi_max_mult_ev, dtype: int64\n",
      "False    6682\n",
      "Name: koi_model_snr, dtype: int64\n",
      "False    6682\n",
      "Name: koi_count, dtype: int64\n",
      "False    6682\n",
      "Name: koi_num_transits, dtype: int64\n",
      "False    6682\n",
      "Name: koi_tce_plnt_num, dtype: int64\n",
      "False    6682\n",
      "Name: koi_tce_delivname, dtype: int64\n",
      "False    6682\n",
      "Name: koi_quarters, dtype: int64\n",
      "False    6682\n",
      "Name: koi_bin_oedp_sig, dtype: int64\n",
      "False    6682\n",
      "Name: koi_trans_mod, dtype: int64\n",
      "False    6682\n",
      "Name: koi_steff, dtype: int64\n",
      "False    6682\n",
      "Name: koi_slogg, dtype: int64\n",
      "False    6682\n",
      "Name: koi_smet, dtype: int64\n",
      "False    6682\n",
      "Name: koi_srad, dtype: int64\n",
      "False    6682\n",
      "Name: koi_smass, dtype: int64\n",
      "False    6682\n",
      "Name: koi_sparprov, dtype: int64\n",
      "False    6682\n",
      "Name: ra, dtype: int64\n",
      "False    6682\n",
      "Name: dec, dtype: int64\n",
      "False    6682\n",
      "Name: koi_kepmag, dtype: int64\n",
      "False    6682\n",
      "Name: koi_gmag, dtype: int64\n",
      "False    6682\n",
      "Name: koi_rmag, dtype: int64\n",
      "False    6682\n",
      "Name: koi_imag, dtype: int64\n",
      "False    6682\n",
      "Name: koi_zmag, dtype: int64\n",
      "False    6682\n",
      "Name: koi_jmag, dtype: int64\n",
      "False    6682\n",
      "Name: koi_hmag, dtype: int64\n",
      "False    6682\n",
      "Name: koi_kmag, dtype: int64\n",
      "False    6682\n",
      "Name: koi_fwm_stat_sig, dtype: int64\n",
      "False    6682\n",
      "Name: koi_fwm_sra, dtype: int64\n",
      "False    6682\n",
      "Name: koi_fwm_sdec, dtype: int64\n",
      "False    6682\n",
      "Name: koi_fwm_srao, dtype: int64\n",
      "False    6682\n",
      "Name: koi_fwm_sdeco, dtype: int64\n",
      "False    6682\n",
      "Name: koi_fwm_prao, dtype: int64\n",
      "False    6682\n",
      "Name: koi_fwm_pdeco, dtype: int64\n",
      "False    6682\n",
      "Name: koi_dicco_mra, dtype: int64\n",
      "False    6682\n",
      "Name: koi_dicco_mdec, dtype: int64\n",
      "False    6682\n",
      "Name: koi_dicco_msky, dtype: int64\n",
      "False    6682\n",
      "Name: koi_dikco_mra, dtype: int64\n",
      "False    6682\n",
      "Name: koi_dikco_mdec, dtype: int64\n",
      "False    6682\n",
      "Name: koi_dikco_msky, dtype: int64\n"
     ]
    }
   ],
   "source": [
    "for col in df_initial_drop.columns:\n",
    "    print(df_initial_drop[col].isna().value_counts())"
   ]
  },
  {
   "cell_type": "code",
   "execution_count": 23,
   "metadata": {},
   "outputs": [
    {
     "data": {
      "text/plain": [
       "65"
      ]
     },
     "execution_count": 23,
     "metadata": {},
     "output_type": "execute_result"
    }
   ],
   "source": [
    "len(df_initial_drop.columns)"
   ]
  },
  {
   "cell_type": "code",
   "execution_count": 24,
   "metadata": {
    "scrolled": false
   },
   "outputs": [],
   "source": [
    "# fig, axes = plt.subplots(figsize=(15,50),nrows=23,ncols=3)\n",
    "# for i in range(len(df_initial_drop.columns)):\n",
    "#     row = i%3\n",
    "#     col = i//3\n",
    "#     axis = axes[col,row]\n",
    "#     axis.hist(df_initial_drop[df_initial_drop.columns[i]])\n",
    "#     axis.set_title(df_initial_drop.columns[i])\n",
    "#     axis.set_xlabel(df_initial_drop.columns[i])\n",
    "#     axis.set_ylabel(\"Frequency\")\n",
    "#     plt.tight_layout()"
   ]
  },
  {
   "cell_type": "code",
   "execution_count": 25,
   "metadata": {},
   "outputs": [],
   "source": [
    "add_drops = ['koi_sparprov','koi_trans_mod','koi_tce_delivname','koi_limbdark_mod','koi_fittype','koi_disp_prov']\n",
    "df_initial_drop = df_initial_drop.drop(add_drops,axis=1)"
   ]
  },
  {
   "cell_type": "code",
   "execution_count": 26,
   "metadata": {
    "scrolled": true
   },
   "outputs": [],
   "source": [
    "# fig, axes = plt.subplots(figsize=(15,50),nrows=20,ncols=3)\n",
    "# for i in range(len(df_initial_drop.columns)):\n",
    "#     row = i%3\n",
    "#     col = i//3\n",
    "#     axis = axes[col,row]\n",
    "#     axis.hist(df_initial_drop[df_initial_drop.columns[i]])\n",
    "#     axis.set_title(df_initial_drop.columns[i])\n",
    "#     axis.set_xlabel(df_initial_drop.columns[i])\n",
    "#     axis.set_ylabel(\"Frequency\")\n",
    "#     plt.tight_layout()"
   ]
  },
  {
   "cell_type": "code",
   "execution_count": 27,
   "metadata": {
    "scrolled": true
   },
   "outputs": [
    {
     "name": "stdout",
     "output_type": "stream",
     "text": [
      "<class 'pandas.core.frame.DataFrame'>\n",
      "Int64Index: 6682 entries, 0 to 9563\n",
      "Data columns (total 59 columns):\n",
      " #   Column            Non-Null Count  Dtype  \n",
      "---  ------            --------------  -----  \n",
      " 0   kepoi_name        6682 non-null   object \n",
      " 1   koi_disposition   6682 non-null   object \n",
      " 2   koi_pdisposition  6682 non-null   object \n",
      " 3   koi_score         6682 non-null   float64\n",
      " 4   koi_fpflag_nt     6682 non-null   int64  \n",
      " 5   koi_fpflag_ss     6682 non-null   int64  \n",
      " 6   koi_fpflag_co     6682 non-null   int64  \n",
      " 7   koi_fpflag_ec     6682 non-null   int64  \n",
      " 8   koi_period        6682 non-null   float64\n",
      " 9   koi_time0bk       6682 non-null   float64\n",
      " 10  koi_time0         6682 non-null   float64\n",
      " 11  koi_eccen         6682 non-null   float64\n",
      " 12  koi_impact        6682 non-null   float64\n",
      " 13  koi_duration      6682 non-null   float64\n",
      " 14  koi_depth         6682 non-null   float64\n",
      " 15  koi_ror           6682 non-null   float64\n",
      " 16  koi_srho          6682 non-null   float64\n",
      " 17  koi_prad          6682 non-null   float64\n",
      " 18  koi_sma           6682 non-null   float64\n",
      " 19  koi_incl          6682 non-null   float64\n",
      " 20  koi_teq           6682 non-null   float64\n",
      " 21  koi_insol         6682 non-null   float64\n",
      " 22  koi_dor           6682 non-null   float64\n",
      " 23  koi_max_sngle_ev  6682 non-null   float64\n",
      " 24  koi_max_mult_ev   6682 non-null   float64\n",
      " 25  koi_model_snr     6682 non-null   float64\n",
      " 26  koi_count         6682 non-null   int64  \n",
      " 27  koi_num_transits  6682 non-null   float64\n",
      " 28  koi_tce_plnt_num  6682 non-null   float64\n",
      " 29  koi_quarters      6682 non-null   float64\n",
      " 30  koi_bin_oedp_sig  6682 non-null   float64\n",
      " 31  koi_steff         6682 non-null   float64\n",
      " 32  koi_slogg         6682 non-null   float64\n",
      " 33  koi_smet          6682 non-null   float64\n",
      " 34  koi_srad          6682 non-null   float64\n",
      " 35  koi_smass         6682 non-null   float64\n",
      " 36  ra                6682 non-null   float64\n",
      " 37  dec               6682 non-null   float64\n",
      " 38  koi_kepmag        6682 non-null   float64\n",
      " 39  koi_gmag          6682 non-null   float64\n",
      " 40  koi_rmag          6682 non-null   float64\n",
      " 41  koi_imag          6682 non-null   float64\n",
      " 42  koi_zmag          6682 non-null   float64\n",
      " 43  koi_jmag          6682 non-null   float64\n",
      " 44  koi_hmag          6682 non-null   float64\n",
      " 45  koi_kmag          6682 non-null   float64\n",
      " 46  koi_fwm_stat_sig  6682 non-null   float64\n",
      " 47  koi_fwm_sra       6682 non-null   float64\n",
      " 48  koi_fwm_sdec      6682 non-null   float64\n",
      " 49  koi_fwm_srao      6682 non-null   float64\n",
      " 50  koi_fwm_sdeco     6682 non-null   float64\n",
      " 51  koi_fwm_prao      6682 non-null   float64\n",
      " 52  koi_fwm_pdeco     6682 non-null   float64\n",
      " 53  koi_dicco_mra     6682 non-null   float64\n",
      " 54  koi_dicco_mdec    6682 non-null   float64\n",
      " 55  koi_dicco_msky    6682 non-null   float64\n",
      " 56  koi_dikco_mra     6682 non-null   float64\n",
      " 57  koi_dikco_mdec    6682 non-null   float64\n",
      " 58  koi_dikco_msky    6682 non-null   float64\n",
      "dtypes: float64(51), int64(5), object(3)\n",
      "memory usage: 3.1+ MB\n"
     ]
    }
   ],
   "source": [
    "df_initial_drop.info()"
   ]
  },
  {
   "cell_type": "markdown",
   "metadata": {},
   "source": [
    "# Build initial model with pipeline and log regression"
   ]
  },
  {
   "cell_type": "code",
   "execution_count": 28,
   "metadata": {},
   "outputs": [],
   "source": [
    "candidates_df = df_initial_drop.loc[df_initial_drop['koi_disposition'] == 'CANDIDATE']\n",
    "df_processed = df_initial_drop.loc[df_initial_drop['koi_disposition'] != 'CANDIDATE']"
   ]
  },
  {
   "cell_type": "markdown",
   "metadata": {},
   "source": [
    "## Train Test Data"
   ]
  },
  {
   "cell_type": "code",
   "execution_count": 29,
   "metadata": {},
   "outputs": [],
   "source": [
    "X = df_processed.drop(['koi_disposition','koi_pdisposition','kepoi_name'],axis=1)\n",
    "y = df_processed['koi_disposition']"
   ]
  },
  {
   "cell_type": "code",
   "execution_count": 30,
   "metadata": {},
   "outputs": [],
   "source": [
    "X_train, X_test, y_train, y_test = train_test_split(X, y, test_size=0.2)"
   ]
  },
  {
   "cell_type": "markdown",
   "metadata": {},
   "source": [
    "## Initial Pipleline Model"
   ]
  },
  {
   "cell_type": "code",
   "execution_count": 31,
   "metadata": {},
   "outputs": [],
   "source": [
    "initial_pipeline = Pipeline([('ss', StandardScaler()),\n",
    "                            ('log',LogisticRegression())])"
   ]
  },
  {
   "cell_type": "code",
   "execution_count": 32,
   "metadata": {
    "scrolled": false
   },
   "outputs": [
    {
     "name": "stdout",
     "output_type": "stream",
     "text": [
      "********************************************************\n",
      "\n",
      "\u001b[1m     Classification Report: Train\n",
      "\u001b[0m\n",
      "                precision    recall  f1-score   support\n",
      "\n",
      "     CONFIRMED       0.99      0.99      0.99      1733\n",
      "FALSE POSITIVE       0.99      0.99      0.99      2341\n",
      "\n",
      "      accuracy                           0.99      4074\n",
      "     macro avg       0.99      0.99      0.99      4074\n",
      "  weighted avg       0.99      0.99      0.99      4074\n",
      "\n",
      "********************************************************\n",
      "\n",
      "\u001b[1m     Classification Report: Test\n",
      "\u001b[0m\n",
      "                precision    recall  f1-score   support\n",
      "\n",
      "     CONFIRMED       0.98      0.99      0.99       422\n",
      "FALSE POSITIVE       0.99      0.99      0.99       597\n",
      "\n",
      "      accuracy                           0.99      1019\n",
      "     macro avg       0.99      0.99      0.99      1019\n",
      "  weighted avg       0.99      0.99      0.99      1019\n",
      "\n",
      "********************************************************\n",
      "\n"
     ]
    },
    {
     "data": {
      "image/png": "[encoded data removed]",
      "text/plain": [
       "<Figure size 1296x432 with 4 Axes>"
      ]
     },
     "metadata": {
      "needs_background": "light"
     },
     "output_type": "display_data"
    }
   ],
   "source": [
    "initial_model = run_class_model(initial_pipeline, X_train, y_train, X_test, y_test)"
   ]
  },
  {
   "cell_type": "markdown",
   "metadata": {},
   "source": [
    "### Initial Findings/Results\n",
    "\n",
    "* Performs well for an initial model, primarily looking for accuracy\n",
    "* Model is able to predict False Positives too well.  After further investigation, there are columns included in the model\n",
    "  which are already used to calculate the disposition (target variable) and should be removed"
   ]
  },
  {
   "cell_type": "code",
   "execution_count": 33,
   "metadata": {},
   "outputs": [
    {
     "data": {
      "text/html": [
       "<div>\n",
       "<style scoped>\n",
       "    .dataframe tbody tr th:only-of-type {\n",
       "        vertical-align: middle;\n",
       "    }\n",
       "\n",
       "    .dataframe tbody tr th {\n",
       "        vertical-align: top;\n",
       "    }\n",
       "\n",
       "    .dataframe thead th {\n",
       "        text-align: right;\n",
       "    }\n",
       "</style>\n",
       "<table border=\"1\" class=\"dataframe\">\n",
       "  <thead>\n",
       "    <tr style=\"text-align: right;\">\n",
       "      <th></th>\n",
       "      <th>kepoi_name</th>\n",
       "      <th>koi_disposition</th>\n",
       "      <th>koi_pdisposition</th>\n",
       "      <th>koi_score</th>\n",
       "      <th>koi_fpflag_nt</th>\n",
       "      <th>koi_fpflag_ss</th>\n",
       "      <th>koi_fpflag_co</th>\n",
       "      <th>koi_fpflag_ec</th>\n",
       "      <th>koi_period</th>\n",
       "      <th>koi_time0bk</th>\n",
       "      <th>...</th>\n",
       "      <th>koi_fwm_srao</th>\n",
       "      <th>koi_fwm_sdeco</th>\n",
       "      <th>koi_fwm_prao</th>\n",
       "      <th>koi_fwm_pdeco</th>\n",
       "      <th>koi_dicco_mra</th>\n",
       "      <th>koi_dicco_mdec</th>\n",
       "      <th>koi_dicco_msky</th>\n",
       "      <th>koi_dikco_mra</th>\n",
       "      <th>koi_dikco_mdec</th>\n",
       "      <th>koi_dikco_msky</th>\n",
       "    </tr>\n",
       "  </thead>\n",
       "  <tbody>\n",
       "    <tr>\n",
       "      <th>0</th>\n",
       "      <td>K00752.01</td>\n",
       "      <td>CONFIRMED</td>\n",
       "      <td>CANDIDATE</td>\n",
       "      <td>1.000</td>\n",
       "      <td>0</td>\n",
       "      <td>0</td>\n",
       "      <td>0</td>\n",
       "      <td>0</td>\n",
       "      <td>9.488036</td>\n",
       "      <td>170.538750</td>\n",
       "      <td>...</td>\n",
       "      <td>0.430</td>\n",
       "      <td>0.940</td>\n",
       "      <td>-0.00020</td>\n",
       "      <td>-0.00055</td>\n",
       "      <td>-0.010</td>\n",
       "      <td>0.200</td>\n",
       "      <td>0.200</td>\n",
       "      <td>0.080</td>\n",
       "      <td>0.310</td>\n",
       "      <td>0.320</td>\n",
       "    </tr>\n",
       "    <tr>\n",
       "      <th>1</th>\n",
       "      <td>K00752.02</td>\n",
       "      <td>CONFIRMED</td>\n",
       "      <td>CANDIDATE</td>\n",
       "      <td>0.969</td>\n",
       "      <td>0</td>\n",
       "      <td>0</td>\n",
       "      <td>0</td>\n",
       "      <td>0</td>\n",
       "      <td>54.418383</td>\n",
       "      <td>162.513840</td>\n",
       "      <td>...</td>\n",
       "      <td>-0.630</td>\n",
       "      <td>1.230</td>\n",
       "      <td>0.00066</td>\n",
       "      <td>-0.00105</td>\n",
       "      <td>0.390</td>\n",
       "      <td>0.000</td>\n",
       "      <td>0.390</td>\n",
       "      <td>0.490</td>\n",
       "      <td>0.120</td>\n",
       "      <td>0.500</td>\n",
       "    </tr>\n",
       "    <tr>\n",
       "      <th>3</th>\n",
       "      <td>K00754.01</td>\n",
       "      <td>FALSE POSITIVE</td>\n",
       "      <td>FALSE POSITIVE</td>\n",
       "      <td>0.000</td>\n",
       "      <td>0</td>\n",
       "      <td>1</td>\n",
       "      <td>0</td>\n",
       "      <td>0</td>\n",
       "      <td>1.736952</td>\n",
       "      <td>170.307565</td>\n",
       "      <td>...</td>\n",
       "      <td>-0.111</td>\n",
       "      <td>0.002</td>\n",
       "      <td>0.00302</td>\n",
       "      <td>-0.00142</td>\n",
       "      <td>-0.249</td>\n",
       "      <td>0.147</td>\n",
       "      <td>0.289</td>\n",
       "      <td>-0.257</td>\n",
       "      <td>0.099</td>\n",
       "      <td>0.276</td>\n",
       "    </tr>\n",
       "    <tr>\n",
       "      <th>4</th>\n",
       "      <td>K00755.01</td>\n",
       "      <td>CONFIRMED</td>\n",
       "      <td>CANDIDATE</td>\n",
       "      <td>1.000</td>\n",
       "      <td>0</td>\n",
       "      <td>0</td>\n",
       "      <td>0</td>\n",
       "      <td>0</td>\n",
       "      <td>2.525592</td>\n",
       "      <td>171.595550</td>\n",
       "      <td>...</td>\n",
       "      <td>-0.010</td>\n",
       "      <td>0.230</td>\n",
       "      <td>0.00008</td>\n",
       "      <td>-0.00007</td>\n",
       "      <td>0.030</td>\n",
       "      <td>-0.090</td>\n",
       "      <td>0.100</td>\n",
       "      <td>0.070</td>\n",
       "      <td>0.020</td>\n",
       "      <td>0.070</td>\n",
       "    </tr>\n",
       "    <tr>\n",
       "      <th>8</th>\n",
       "      <td>K00114.01</td>\n",
       "      <td>FALSE POSITIVE</td>\n",
       "      <td>FALSE POSITIVE</td>\n",
       "      <td>0.000</td>\n",
       "      <td>0</td>\n",
       "      <td>1</td>\n",
       "      <td>1</td>\n",
       "      <td>0</td>\n",
       "      <td>7.361790</td>\n",
       "      <td>132.250530</td>\n",
       "      <td>...</td>\n",
       "      <td>-13.450</td>\n",
       "      <td>24.090</td>\n",
       "      <td>0.00303</td>\n",
       "      <td>-0.00555</td>\n",
       "      <td>-4.506</td>\n",
       "      <td>7.710</td>\n",
       "      <td>8.930</td>\n",
       "      <td>-4.537</td>\n",
       "      <td>7.713</td>\n",
       "      <td>8.948</td>\n",
       "    </tr>\n",
       "  </tbody>\n",
       "</table>\n",
       "<p>5 rows × 59 columns</p>\n",
       "</div>"
      ],
      "text/plain": [
       "  kepoi_name koi_disposition koi_pdisposition  koi_score  koi_fpflag_nt  \\\n",
       "0  K00752.01       CONFIRMED        CANDIDATE      1.000              0   \n",
       "1  K00752.02       CONFIRMED        CANDIDATE      0.969              0   \n",
       "3  K00754.01  FALSE POSITIVE   FALSE POSITIVE      0.000              0   \n",
       "4  K00755.01       CONFIRMED        CANDIDATE      1.000              0   \n",
       "8  K00114.01  FALSE POSITIVE   FALSE POSITIVE      0.000              0   \n",
       "\n",
       "   koi_fpflag_ss  koi_fpflag_co  koi_fpflag_ec  koi_period  koi_time0bk  ...  \\\n",
       "0              0              0              0    9.488036   170.538750  ...   \n",
       "1              0              0              0   54.418383   162.513840  ...   \n",
       "3              1              0              0    1.736952   170.307565  ...   \n",
       "4              0              0              0    2.525592   171.595550  ...   \n",
       "8              1              1              0    7.361790   132.250530  ...   \n",
       "\n",
       "   koi_fwm_srao  koi_fwm_sdeco  koi_fwm_prao  koi_fwm_pdeco  koi_dicco_mra  \\\n",
       "0         0.430          0.940      -0.00020       -0.00055         -0.010   \n",
       "1        -0.630          1.230       0.00066       -0.00105          0.390   \n",
       "3        -0.111          0.002       0.00302       -0.00142         -0.249   \n",
       "4        -0.010          0.230       0.00008       -0.00007          0.030   \n",
       "8       -13.450         24.090       0.00303       -0.00555         -4.506   \n",
       "\n",
       "   koi_dicco_mdec  koi_dicco_msky  koi_dikco_mra  koi_dikco_mdec  \\\n",
       "0           0.200           0.200          0.080           0.310   \n",
       "1           0.000           0.390          0.490           0.120   \n",
       "3           0.147           0.289         -0.257           0.099   \n",
       "4          -0.090           0.100          0.070           0.020   \n",
       "8           7.710           8.930         -4.537           7.713   \n",
       "\n",
       "   koi_dikco_msky  \n",
       "0           0.320  \n",
       "1           0.500  \n",
       "3           0.276  \n",
       "4           0.070  \n",
       "8           8.948  \n",
       "\n",
       "[5 rows x 59 columns]"
      ]
     },
     "execution_count": 33,
     "metadata": {},
     "output_type": "execute_result"
    }
   ],
   "source": [
    "df_processed.head()"
   ]
  },
  {
   "cell_type": "markdown",
   "metadata": {},
   "source": [
    "# Calculator Features Removal and Initial Model Rebuild"
   ]
  },
  {
   "cell_type": "code",
   "execution_count": 34,
   "metadata": {},
   "outputs": [
    {
     "data": {
      "text/plain": [
       "Index(['koi_score', 'koi_fpflag_nt', 'koi_fpflag_ss', 'koi_fpflag_co',\n",
       "       'koi_fpflag_ec', 'koi_period', 'koi_time0bk', 'koi_time0', 'koi_eccen',\n",
       "       'koi_impact', 'koi_duration', 'koi_depth', 'koi_ror', 'koi_srho',\n",
       "       'koi_prad', 'koi_sma', 'koi_incl', 'koi_teq', 'koi_insol', 'koi_dor',\n",
       "       'koi_max_sngle_ev', 'koi_max_mult_ev', 'koi_model_snr', 'koi_count',\n",
       "       'koi_num_transits', 'koi_tce_plnt_num', 'koi_quarters',\n",
       "       'koi_bin_oedp_sig', 'koi_steff', 'koi_slogg', 'koi_smet', 'koi_srad',\n",
       "       'koi_smass', 'ra', 'dec', 'koi_kepmag', 'koi_gmag', 'koi_rmag',\n",
       "       'koi_imag', 'koi_zmag', 'koi_jmag', 'koi_hmag', 'koi_kmag',\n",
       "       'koi_fwm_stat_sig', 'koi_fwm_sra', 'koi_fwm_sdec', 'koi_fwm_srao',\n",
       "       'koi_fwm_sdeco', 'koi_fwm_prao', 'koi_fwm_pdeco', 'koi_dicco_mra',\n",
       "       'koi_dicco_mdec', 'koi_dicco_msky', 'koi_dikco_mra', 'koi_dikco_mdec',\n",
       "       'koi_dikco_msky'],\n",
       "      dtype='object')"
      ]
     },
     "execution_count": 34,
     "metadata": {},
     "output_type": "execute_result"
    }
   ],
   "source": [
    "X.columns"
   ]
  },
  {
   "cell_type": "code",
   "execution_count": 35,
   "metadata": {},
   "outputs": [],
   "source": [
    "c_features = ['koi_score','koi_max_mult_ev','koi_fpflag_nt','koi_fpflag_ss','koi_fpflag_co','koi_fpflag_ec']\n",
    "df_revised = df_processed.drop(c_features,axis=1)\n",
    "candidates_revised = candidates_df.drop(c_features,axis=1)"
   ]
  },
  {
   "cell_type": "markdown",
   "metadata": {},
   "source": [
    "## Train Test Data Rebuilt"
   ]
  },
  {
   "cell_type": "code",
   "execution_count": 36,
   "metadata": {},
   "outputs": [],
   "source": [
    "X_r = df_revised.drop(['koi_disposition','koi_pdisposition','kepoi_name'],axis=1)\n",
    "y_r = df_revised['koi_disposition']"
   ]
  },
  {
   "cell_type": "code",
   "execution_count": 37,
   "metadata": {},
   "outputs": [],
   "source": [
    "X_train_r, X_test_r, y_train_r, y_test_r = train_test_split(X_r, y_r, test_size=0.2)"
   ]
  },
  {
   "cell_type": "markdown",
   "metadata": {},
   "source": [
    "## Remodel"
   ]
  },
  {
   "cell_type": "code",
   "execution_count": 38,
   "metadata": {},
   "outputs": [],
   "source": [
    "remodel_pipeline = Pipeline([('ss', StandardScaler()),\n",
    "                            ('log',LogisticRegression())])"
   ]
  },
  {
   "cell_type": "code",
   "execution_count": 39,
   "metadata": {
    "scrolled": true
   },
   "outputs": [
    {
     "name": "stdout",
     "output_type": "stream",
     "text": [
      "********************************************************\n",
      "\n",
      "\u001b[1m     Classification Report: Train\n",
      "\u001b[0m\n",
      "                precision    recall  f1-score   support\n",
      "\n",
      "     CONFIRMED       0.94      0.97      0.95      1734\n",
      "FALSE POSITIVE       0.98      0.95      0.96      2340\n",
      "\n",
      "      accuracy                           0.96      4074\n",
      "     macro avg       0.96      0.96      0.96      4074\n",
      "  weighted avg       0.96      0.96      0.96      4074\n",
      "\n",
      "********************************************************\n",
      "\n",
      "\u001b[1m     Classification Report: Test\n",
      "\u001b[0m\n",
      "                precision    recall  f1-score   support\n",
      "\n",
      "     CONFIRMED       0.93      0.95      0.94       421\n",
      "FALSE POSITIVE       0.96      0.95      0.96       598\n",
      "\n",
      "      accuracy                           0.95      1019\n",
      "     macro avg       0.95      0.95      0.95      1019\n",
      "  weighted avg       0.95      0.95      0.95      1019\n",
      "\n",
      "********************************************************\n",
      "\n"
     ]
    },
    {
     "data": {
      "image/png": "[encoded data removed]",
      "text/plain": [
       "<Figure size 1296x432 with 4 Axes>"
      ]
     },
     "metadata": {
      "needs_background": "light"
     },
     "output_type": "display_data"
    }
   ],
   "source": [
    "remodel = run_class_model(remodel_pipeline, X_train_r, y_train_r, X_test_r, y_test_r)"
   ]
  },
  {
   "cell_type": "markdown",
   "metadata": {},
   "source": [
    "### Remodeled Findings\n",
    "\n",
    "* Model performed worse overall which was expected"
   ]
  },
  {
   "cell_type": "markdown",
   "metadata": {},
   "source": [
    "# List of models\n",
    "* Logistic Regression\n",
    "* K Nearest Neighbors\n",
    "* Gaussian Naive Bayes\n",
    "* Random Forest\n",
    "* ADA Boost\n",
    "* Gradient Boost\n",
    "* XG Boost"
   ]
  },
  {
   "cell_type": "markdown",
   "metadata": {},
   "source": [
    "## Model 1 - Logistic Regression"
   ]
  },
  {
   "cell_type": "code",
   "execution_count": 67,
   "metadata": {},
   "outputs": [],
   "source": [
    "log_pipe = Pipeline([('ss', StandardScaler()),\n",
    "                     ('log', LogisticRegression())])\n",
    "log_grid = [{'log__C': [0,10],\n",
    "             'log__solver': ['newton-cg','sag','saga','lbfgs','liblinear']}]"
   ]
  },
  {
   "cell_type": "code",
   "execution_count": 68,
   "metadata": {},
   "outputs": [],
   "source": [
    "log_gridsearch = GridSearchCV(estimator=log_pipe,\n",
    "                              param_grid=log_grid,\n",
    "                              scoring='accuracy',\n",
    "                              cv=5)"
   ]
  },
  {
   "cell_type": "code",
   "execution_count": 69,
   "metadata": {
    "scrolled": true
   },
   "outputs": [
    {
     "name": "stdout",
     "output_type": "stream",
     "text": [
      "********************************************************\n",
      "\n",
      "\u001b[1m     Classification Report: Train\n",
      "\u001b[0m\n",
      "                precision    recall  f1-score   support\n",
      "\n",
      "     CONFIRMED       0.94      0.97      0.96      1734\n",
      "FALSE POSITIVE       0.98      0.96      0.97      2340\n",
      "\n",
      "      accuracy                           0.96      4074\n",
      "     macro avg       0.96      0.96      0.96      4074\n",
      "  weighted avg       0.96      0.96      0.96      4074\n",
      "\n",
      "********************************************************\n",
      "\n",
      "\u001b[1m     Classification Report: Test\n",
      "\u001b[0m\n",
      "                precision    recall  f1-score   support\n",
      "\n",
      "     CONFIRMED       0.94      0.95      0.95       421\n",
      "FALSE POSITIVE       0.97      0.96      0.96       598\n",
      "\n",
      "      accuracy                           0.96      1019\n",
      "     macro avg       0.95      0.96      0.96      1019\n",
      "  weighted avg       0.96      0.96      0.96      1019\n",
      "\n",
      "********************************************************\n",
      "\n"
     ]
    },
    {
     "data": {
      "image/png": "[encoded data removed]",
      "text/plain": [
       "<Figure size 1296x432 with 4 Axes>"
      ]
     },
     "metadata": {
      "needs_background": "light"
     },
     "output_type": "display_data"
    }
   ],
   "source": [
    "gslog_model = run_class_model(log_gridsearch, X_train_r, y_train_r, X_test_r, y_test_r)"
   ]
  },
  {
   "cell_type": "code",
   "execution_count": 44,
   "metadata": {},
   "outputs": [
    {
     "data": {
      "text/plain": [
       "{'log__C': 10, 'log__solver': 'newton-cg'}"
      ]
     },
     "execution_count": 44,
     "metadata": {},
     "output_type": "execute_result"
    }
   ],
   "source": [
    "gslog_model.best_params_"
   ]
  },
  {
   "cell_type": "code",
   "execution_count": 45,
   "metadata": {},
   "outputs": [
    {
     "data": {
      "text/plain": [
       "0.9621048497938347"
      ]
     },
     "execution_count": 45,
     "metadata": {},
     "output_type": "execute_result"
    }
   ],
   "source": [
    "accuracy_score(y_test_r, gslog_model.predict(X_test_r))"
   ]
  },
  {
   "cell_type": "markdown",
   "metadata": {},
   "source": [
    "### Logistic Results\n",
    "\n",
    "* Performs roughly the same as the base log model"
   ]
  },
  {
   "cell_type": "markdown",
   "metadata": {},
   "source": [
    "## Model 2 - KNN"
   ]
  },
  {
   "cell_type": "code",
   "execution_count": 80,
   "metadata": {},
   "outputs": [],
   "source": [
    "knn_pipe = Pipeline([('rb', RobustScaler()),#('ss', StandardScaler()),\n",
    "                     ('knn', KNeighborsClassifier())])\n",
    "knn_grid = [{'knn__n_neighbors': [2,5],\n",
    "             'knn__weights' : ['uniform', 'distance'],\n",
    "             'knn__leaf_size': [30,50]           \n",
    "            }]"
   ]
  },
  {
   "cell_type": "code",
   "execution_count": 81,
   "metadata": {},
   "outputs": [],
   "source": [
    "knn_gridsearch = GridSearchCV(estimator=knn_pipe,\n",
    "                              param_grid=knn_grid,\n",
    "                              scoring='accuracy',\n",
    "                              cv=5)"
   ]
  },
  {
   "cell_type": "code",
   "execution_count": 82,
   "metadata": {},
   "outputs": [
    {
     "name": "stdout",
     "output_type": "stream",
     "text": [
      "********************************************************\n",
      "\n",
      "\u001b[1m     Classification Report: Train\n",
      "\u001b[0m\n",
      "                precision    recall  f1-score   support\n",
      "\n",
      "     CONFIRMED       1.00      1.00      1.00      1734\n",
      "FALSE POSITIVE       1.00      1.00      1.00      2340\n",
      "\n",
      "      accuracy                           1.00      4074\n",
      "     macro avg       1.00      1.00      1.00      4074\n",
      "  weighted avg       1.00      1.00      1.00      4074\n",
      "\n",
      "********************************************************\n",
      "\n",
      "\u001b[1m     Classification Report: Test\n",
      "\u001b[0m\n",
      "                precision    recall  f1-score   support\n",
      "\n",
      "     CONFIRMED       0.84      0.98      0.91       421\n",
      "FALSE POSITIVE       0.98      0.87      0.92       598\n",
      "\n",
      "      accuracy                           0.92      1019\n",
      "     macro avg       0.91      0.93      0.92      1019\n",
      "  weighted avg       0.93      0.92      0.92      1019\n",
      "\n",
      "********************************************************\n",
      "\n"
     ]
    },
    {
     "data": {
      "image/png": "[encoded data removed]",
      "text/plain": [
       "<Figure size 1296x432 with 4 Axes>"
      ]
     },
     "metadata": {
      "needs_background": "light"
     },
     "output_type": "display_data"
    }
   ],
   "source": [
    "gsknn_model = run_class_model(knn_gridsearch, X_train_r, y_train_r, X_test_r, y_test_r)"
   ]
  },
  {
   "cell_type": "code",
   "execution_count": 83,
   "metadata": {},
   "outputs": [
    {
     "data": {
      "text/plain": [
       "{'knn__leaf_size': 30, 'knn__n_neighbors': 5, 'knn__weights': 'distance'}"
      ]
     },
     "execution_count": 83,
     "metadata": {},
     "output_type": "execute_result"
    }
   ],
   "source": [
    "gsknn_model.best_params_"
   ]
  },
  {
   "cell_type": "code",
   "execution_count": null,
   "metadata": {},
   "outputs": [],
   "source": []
  },
  {
   "cell_type": "code",
   "execution_count": 84,
   "metadata": {},
   "outputs": [],
   "source": [
    "knn_grid2 = [{'knn__n_neighbors': [2,3],\n",
    "             'knn__weights' : ['uniform', 'distance'],\n",
    "             'knn__leaf_size': [40,50]           \n",
    "            }]"
   ]
  },
  {
   "cell_type": "code",
   "execution_count": 85,
   "metadata": {},
   "outputs": [],
   "source": [
    "knn_gridsearch2 = GridSearchCV(estimator=knn_pipe,\n",
    "                              param_grid=knn_grid2,\n",
    "                              scoring='accuracy',\n",
    "                              cv=5)"
   ]
  },
  {
   "cell_type": "code",
   "execution_count": 86,
   "metadata": {},
   "outputs": [
    {
     "name": "stdout",
     "output_type": "stream",
     "text": [
      "********************************************************\n",
      "\n",
      "\u001b[1m     Classification Report: Train\n",
      "\u001b[0m\n",
      "                precision    recall  f1-score   support\n",
      "\n",
      "     CONFIRMED       1.00      1.00      1.00      1734\n",
      "FALSE POSITIVE       1.00      1.00      1.00      2340\n",
      "\n",
      "      accuracy                           1.00      4074\n",
      "     macro avg       1.00      1.00      1.00      4074\n",
      "  weighted avg       1.00      1.00      1.00      4074\n",
      "\n",
      "********************************************************\n",
      "\n",
      "\u001b[1m     Classification Report: Test\n",
      "\u001b[0m\n",
      "                precision    recall  f1-score   support\n",
      "\n",
      "     CONFIRMED       0.85      0.97      0.91       421\n",
      "FALSE POSITIVE       0.98      0.88      0.93       598\n",
      "\n",
      "      accuracy                           0.92      1019\n",
      "     macro avg       0.91      0.93      0.92      1019\n",
      "  weighted avg       0.93      0.92      0.92      1019\n",
      "\n",
      "********************************************************\n",
      "\n"
     ]
    },
    {
     "data": {
      "image/png": "[encoded data removed]",
      "text/plain": [
       "<Figure size 1296x432 with 4 Axes>"
      ]
     },
     "metadata": {
      "needs_background": "light"
     },
     "output_type": "display_data"
    }
   ],
   "source": [
    "gsknn_model2 = run_class_model(knn_gridsearch2, X_train_r, y_train_r, X_test_r, y_test_r)"
   ]
  },
  {
   "cell_type": "code",
   "execution_count": 53,
   "metadata": {},
   "outputs": [
    {
     "data": {
      "text/plain": [
       "{'knn__leaf_size': 40, 'knn__n_neighbors': 3, 'knn__weights': 'uniform'}"
      ]
     },
     "execution_count": 53,
     "metadata": {},
     "output_type": "execute_result"
    }
   ],
   "source": [
    "gsknn_model2.best_params_"
   ]
  },
  {
   "cell_type": "markdown",
   "metadata": {},
   "source": [
    "### KNN Results\n",
    "\n",
    "* Too overfit, test data performs worse than log.\n",
    "* Reducing overfit does not improve the test performance."
   ]
  },
  {
   "cell_type": "markdown",
   "metadata": {},
   "source": [
    "## Gaussian Naive Bayes"
   ]
  },
  {
   "cell_type": "code",
   "execution_count": 88,
   "metadata": {},
   "outputs": [
    {
     "name": "stdout",
     "output_type": "stream",
     "text": [
      "********************************************************\n",
      "\n",
      "\u001b[1m     Classification Report: Train\n",
      "\u001b[0m\n",
      "                precision    recall  f1-score   support\n",
      "\n",
      "     CONFIRMED       0.89      0.97      0.93      1734\n",
      "FALSE POSITIVE       0.98      0.91      0.94      2340\n",
      "\n",
      "      accuracy                           0.93      4074\n",
      "     macro avg       0.93      0.94      0.93      4074\n",
      "  weighted avg       0.94      0.93      0.93      4074\n",
      "\n",
      "********************************************************\n",
      "\n",
      "\u001b[1m     Classification Report: Test\n",
      "\u001b[0m\n",
      "                precision    recall  f1-score   support\n",
      "\n",
      "     CONFIRMED       0.87      0.98      0.92       421\n",
      "FALSE POSITIVE       0.98      0.90      0.94       598\n",
      "\n",
      "      accuracy                           0.93      1019\n",
      "     macro avg       0.93      0.94      0.93      1019\n",
      "  weighted avg       0.94      0.93      0.93      1019\n",
      "\n",
      "********************************************************\n",
      "\n"
     ]
    },
    {
     "data": {
      "image/png": "[encoded data removed]",
      "text/plain": [
       "<Figure size 1296x432 with 4 Axes>"
      ]
     },
     "metadata": {
      "needs_background": "light"
     },
     "output_type": "display_data"
    }
   ],
   "source": [
    "gnb_pipe = Pipeline([('ss', StandardScaler()),\n",
    "                     ('gnb', GaussianNB())])\n",
    "gnb_model = run_class_model(gnb_pipe, X_train_r, y_train_r, X_test_r, y_test_r)"
   ]
  },
  {
   "cell_type": "markdown",
   "metadata": {},
   "source": [
    "### GNB Results\n",
    "\n",
    "* Performs better than KNN but slightly worse than Logistic"
   ]
  },
  {
   "cell_type": "markdown",
   "metadata": {},
   "source": [
    "## Random Forest Classifer"
   ]
  },
  {
   "cell_type": "code",
   "execution_count": 125,
   "metadata": {},
   "outputs": [],
   "source": [
    "rf_pipe = Pipeline([('rb', RobustScaler()),\n",
    "                    #('ss', StandardScaler()),\n",
    "                    ('RF', RandomForestClassifier())])\n",
    "rf_grid = [{'RF__max_depth': [2,9],\n",
    "            'RF__min_samples_split': [3,6],\n",
    "            'RF__min_samples_leaf': [3,7],\n",
    "            'RF__oob_score': [True,False],\n",
    "           }]"
   ]
  },
  {
   "cell_type": "code",
   "execution_count": 126,
   "metadata": {},
   "outputs": [],
   "source": [
    "gs_rf = GridSearchCV(estimator = rf_pipe,\n",
    "                     param_grid = rf_grid,\n",
    "                     scoring = 'accuracy',\n",
    "                     cv = 5)"
   ]
  },
  {
   "cell_type": "code",
   "execution_count": 127,
   "metadata": {
    "scrolled": false
   },
   "outputs": [
    {
     "name": "stdout",
     "output_type": "stream",
     "text": [
      "********************************************************\n",
      "\n",
      "\u001b[1m     Classification Report: Train\n",
      "\u001b[0m\n",
      "                precision    recall  f1-score   support\n",
      "\n",
      "     CONFIRMED       0.97      0.99      0.98      1734\n",
      "FALSE POSITIVE       0.99      0.98      0.99      2340\n",
      "\n",
      "      accuracy                           0.98      4074\n",
      "     macro avg       0.98      0.98      0.98      4074\n",
      "  weighted avg       0.98      0.98      0.98      4074\n",
      "\n",
      "********************************************************\n",
      "\n",
      "\u001b[1m     Classification Report: Test\n",
      "\u001b[0m\n",
      "                precision    recall  f1-score   support\n",
      "\n",
      "     CONFIRMED       0.94      0.98      0.96       421\n",
      "FALSE POSITIVE       0.98      0.96      0.97       598\n",
      "\n",
      "      accuracy                           0.97      1019\n",
      "     macro avg       0.96      0.97      0.96      1019\n",
      "  weighted avg       0.97      0.97      0.97      1019\n",
      "\n",
      "********************************************************\n",
      "\n"
     ]
    },
    {
     "data": {
      "image/png": "[encoded data removed]",
      "text/plain": [
       "<Figure size 1296x432 with 4 Axes>"
      ]
     },
     "metadata": {
      "needs_background": "light"
     },
     "output_type": "display_data"
    }
   ],
   "source": [
    "gsrf_model = run_class_model(gs_rf, X_train_r, y_train_r, X_test_r, y_test_r)"
   ]
  },
  {
   "cell_type": "code",
   "execution_count": 128,
   "metadata": {},
   "outputs": [
    {
     "data": {
      "text/plain": [
       "{'RF__max_depth': 9,\n",
       " 'RF__min_samples_leaf': 3,\n",
       " 'RF__min_samples_split': 6,\n",
       " 'RF__oob_score': True}"
      ]
     },
     "execution_count": 128,
     "metadata": {},
     "output_type": "execute_result"
    }
   ],
   "source": [
    "gsrf_model.best_params_"
   ]
  },
  {
   "cell_type": "markdown",
   "metadata": {},
   "source": [
    "### RF Results\n",
    "\n",
    "* Performs slightly better than Logistic Regression which was the best model so far."
   ]
  },
  {
   "cell_type": "markdown",
   "metadata": {},
   "source": [
    "## ADA Boost"
   ]
  },
  {
   "cell_type": "code",
   "execution_count": 141,
   "metadata": {},
   "outputs": [],
   "source": [
    "ada_pipe = Pipeline([('rb', RobustScaler()),\n",
    "                    #('ss', StandardScaler()),\n",
    "                    ('ada', AdaBoostClassifier())])\n",
    "ada_grid = [{'ada__learning_rate': [1.5,1.0,.1],\n",
    "             'ada__n_estimators': [150,100,50,10]\n",
    "           }]"
   ]
  },
  {
   "cell_type": "code",
   "execution_count": 142,
   "metadata": {},
   "outputs": [],
   "source": [
    "gs_ada = GridSearchCV(estimator = ada_pipe,\n",
    "                     param_grid = ada_grid,\n",
    "                     scoring = 'accuracy',\n",
    "                     cv = 5)"
   ]
  },
  {
   "cell_type": "code",
   "execution_count": 143,
   "metadata": {
    "scrolled": true
   },
   "outputs": [
    {
     "name": "stdout",
     "output_type": "stream",
     "text": [
      "********************************************************\n",
      "\n",
      "\u001b[1m     Classification Report: Train\n",
      "\u001b[0m\n",
      "                precision    recall  f1-score   support\n",
      "\n",
      "     CONFIRMED       0.96      0.98      0.97      1734\n",
      "FALSE POSITIVE       0.99      0.97      0.98      2340\n",
      "\n",
      "      accuracy                           0.98      4074\n",
      "     macro avg       0.98      0.98      0.98      4074\n",
      "  weighted avg       0.98      0.98      0.98      4074\n",
      "\n",
      "********************************************************\n",
      "\n",
      "\u001b[1m     Classification Report: Test\n",
      "\u001b[0m\n",
      "                precision    recall  f1-score   support\n",
      "\n",
      "     CONFIRMED       0.95      0.97      0.96       421\n",
      "FALSE POSITIVE       0.98      0.96      0.97       598\n",
      "\n",
      "      accuracy                           0.97      1019\n",
      "     macro avg       0.96      0.97      0.96      1019\n",
      "  weighted avg       0.97      0.97      0.97      1019\n",
      "\n",
      "********************************************************\n",
      "\n"
     ]
    },
    {
     "data": {
      "image/png": "[encoded data removed]",
      "text/plain": [
       "<Figure size 1296x432 with 4 Axes>"
      ]
     },
     "metadata": {
      "needs_background": "light"
     },
     "output_type": "display_data"
    }
   ],
   "source": [
    "gsada_model = run_class_model(gs_ada, X_train_r, y_train_r, X_test_r, y_test_r)"
   ]
  },
  {
   "cell_type": "code",
   "execution_count": 144,
   "metadata": {},
   "outputs": [
    {
     "data": {
      "text/plain": [
       "{'ada__learning_rate': 0.1, 'ada__n_estimators': 500}"
      ]
     },
     "execution_count": 144,
     "metadata": {},
     "output_type": "execute_result"
    }
   ],
   "source": [
    "gsada_model.best_params_"
   ]
  },
  {
   "cell_type": "markdown",
   "metadata": {},
   "source": [
    "### ADA Boost Results"
   ]
  },
  {
   "cell_type": "markdown",
   "metadata": {},
   "source": [
    "## Gradient Boost"
   ]
  },
  {
   "cell_type": "code",
   "execution_count": 145,
   "metadata": {},
   "outputs": [],
   "source": [
    "gra_pipe = Pipeline([('rb', RobustScaler()),\n",
    "                    #('ss', StandardScaler()),\n",
    "                    ('gra', GradientBoostingClassifier())])\n",
    "gra_grid = [{'gra__learning_rate': [1.5,1.0,.1],\n",
    "             'gra__n_estimators': [200,100,50,10]\n",
    "           }]"
   ]
  },
  {
   "cell_type": "code",
   "execution_count": 146,
   "metadata": {},
   "outputs": [],
   "source": [
    "gs_gra = GridSearchCV(estimator = gra_pipe,\n",
    "                     param_grid = gra_grid,\n",
    "                     scoring = 'accuracy',\n",
    "                     cv = 5)"
   ]
  },
  {
   "cell_type": "code",
   "execution_count": 147,
   "metadata": {
    "scrolled": true
   },
   "outputs": [
    {
     "name": "stdout",
     "output_type": "stream",
     "text": [
      "********************************************************\n",
      "\n",
      "\u001b[1m     Classification Report: Train\n",
      "\u001b[0m\n",
      "                precision    recall  f1-score   support\n",
      "\n",
      "     CONFIRMED       1.00      1.00      1.00      1734\n",
      "FALSE POSITIVE       1.00      1.00      1.00      2340\n",
      "\n",
      "      accuracy                           1.00      4074\n",
      "     macro avg       1.00      1.00      1.00      4074\n",
      "  weighted avg       1.00      1.00      1.00      4074\n",
      "\n",
      "********************************************************\n",
      "\n",
      "\u001b[1m     Classification Report: Test\n",
      "\u001b[0m\n",
      "                precision    recall  f1-score   support\n",
      "\n",
      "     CONFIRMED       0.96      0.98      0.97       421\n",
      "FALSE POSITIVE       0.98      0.97      0.98       598\n",
      "\n",
      "      accuracy                           0.97      1019\n",
      "     macro avg       0.97      0.97      0.97      1019\n",
      "  weighted avg       0.97      0.97      0.97      1019\n",
      "\n",
      "********************************************************\n",
      "\n"
     ]
    },
    {
     "data": {
      "image/png": "[encoded data removed]",
      "text/plain": [
       "<Figure size 1296x432 with 4 Axes>"
      ]
     },
     "metadata": {
      "needs_background": "light"
     },
     "output_type": "display_data"
    }
   ],
   "source": [
    "gsgra_model = run_class_model(gs_gra, X_train_r, y_train_r, X_test_r, y_test_r)"
   ]
  },
  {
   "cell_type": "code",
   "execution_count": null,
   "metadata": {},
   "outputs": [],
   "source": [
    "gsgra_model.best_params_"
   ]
  },
  {
   "cell_type": "markdown",
   "metadata": {},
   "source": [
    "### Gradient Boost Results"
   ]
  },
  {
   "cell_type": "markdown",
   "metadata": {},
   "source": [
    "## XG Boost"
   ]
  },
  {
   "cell_type": "code",
   "execution_count": 150,
   "metadata": {},
   "outputs": [],
   "source": [
    "xg_pipe = Pipeline([('rb', RobustScaler()),\n",
    "                    #('ss', StandardScaler()),\n",
    "                    ('xg', xgb.XGBClassifier())])\n",
    "xg_grid = [{'xg__learning_rate': [1.5,1.0,.1],\n",
    "            'xg__n_estimators': [200,100,50,10]\n",
    "           }]"
   ]
  },
  {
   "cell_type": "code",
   "execution_count": 151,
   "metadata": {},
   "outputs": [],
   "source": [
    "gs_xg = GridSearchCV(estimator = xg_pipe,\n",
    "                     param_grid = xg_grid,\n",
    "                     scoring = 'accuracy',\n",
    "                     cv = 5)"
   ]
  },
  {
   "cell_type": "code",
   "execution_count": 152,
   "metadata": {
    "scrolled": true
   },
   "outputs": [
    {
     "name": "stdout",
     "output_type": "stream",
     "text": [
      "********************************************************\n",
      "\n",
      "\u001b[1m     Classification Report: Train\n",
      "\u001b[0m\n",
      "                precision    recall  f1-score   support\n",
      "\n",
      "     CONFIRMED       1.00      1.00      1.00      1734\n",
      "FALSE POSITIVE       1.00      1.00      1.00      2340\n",
      "\n",
      "      accuracy                           1.00      4074\n",
      "     macro avg       1.00      1.00      1.00      4074\n",
      "  weighted avg       1.00      1.00      1.00      4074\n",
      "\n",
      "********************************************************\n",
      "\n",
      "\u001b[1m     Classification Report: Test\n",
      "\u001b[0m\n",
      "                precision    recall  f1-score   support\n",
      "\n",
      "     CONFIRMED       0.96      0.98      0.97       421\n",
      "FALSE POSITIVE       0.98      0.97      0.98       598\n",
      "\n",
      "      accuracy                           0.97      1019\n",
      "     macro avg       0.97      0.97      0.97      1019\n",
      "  weighted avg       0.97      0.97      0.97      1019\n",
      "\n",
      "********************************************************\n",
      "\n"
     ]
    },
    {
     "data": {
      "image/png": "[encoded data removed]",
      "text/plain": [
       "<Figure size 1296x432 with 4 Axes>"
      ]
     },
     "metadata": {
      "needs_background": "light"
     },
     "output_type": "display_data"
    }
   ],
   "source": [
    "gsxg_model = run_class_model(gs_xg, X_train_r, y_train_r, X_test_r, y_test_r)"
   ]
  },
  {
   "cell_type": "code",
   "execution_count": null,
   "metadata": {},
   "outputs": [],
   "source": [
    "gsxg_model.best_params_"
   ]
  },
  {
   "cell_type": "markdown",
   "metadata": {},
   "source": [
    "### XG Boost Results"
   ]
  },
  {
   "cell_type": "markdown",
   "metadata": {},
   "source": [
    "## Support Vector Machines"
   ]
  },
  {
   "cell_type": "code",
   "execution_count": null,
   "metadata": {},
   "outputs": [],
   "source": [
    "svm_pipe = Pipeline([('rb', RobustScaler()),\n",
    "                    #('ss', StandardScaler()),\n",
    "                    ('svm', SVC())])\n",
    "svm_grid = [{'svm__C': [1.5,1.0,.1],\n",
    "             'svm__kernel': ['linear','poly','rbf','sigmoid'],\n",
    "           }]"
   ]
  },
  {
   "cell_type": "code",
   "execution_count": null,
   "metadata": {},
   "outputs": [],
   "source": [
    "gs_svm = GridSearchCV(estimator = svm_pipe,\n",
    "                     param_grid = svm_grid,\n",
    "                     scoring = 'accuracy',\n",
    "                     cv = 5)"
   ]
  },
  {
   "cell_type": "code",
   "execution_count": null,
   "metadata": {},
   "outputs": [],
   "source": [
    "gssvm_model = run_class_model(gs_svm, X_train_r, y_train_r, X_test_r, y_test_r)"
   ]
  },
  {
   "cell_type": "code",
   "execution_count": null,
   "metadata": {},
   "outputs": [],
   "source": []
  },
  {
   "cell_type": "markdown",
   "metadata": {},
   "source": [
    "### SVM Results"
   ]
  },
  {
   "cell_type": "markdown",
   "metadata": {},
   "source": [
    "## Table of Classification Results"
   ]
  },
  {
   "cell_type": "code",
   "execution_count": null,
   "metadata": {},
   "outputs": [],
   "source": [
    "all_models = [gslog_model,gsknn_model,gnb_model,gsrf_model,gsada_model,gsgra_model,gsxg_model,gssvm_model] #add new model names here\n",
    "model_names = ['Logistic Regression',\n",
    "               'K Nearest Neighbors',\n",
    "               'Gaussian Naive Bayes',\n",
    "               'Random Forest',\n",
    "               'ADA Boost',\n",
    "               'Gradient Boost',\n",
    "               'XG Boost',\n",
    "               'Support Vector Machines'\n",
    "              ]"
   ]
  },
  {
   "cell_type": "code",
   "execution_count": null,
   "metadata": {},
   "outputs": [],
   "source": [
    "for i in range(len(model_names)):\n",
    "    print(model_names[m],':',accuracy_score(y_test_r, all_models[m].predict(X_test_r)))"
   ]
  },
  {
   "cell_type": "code",
   "execution_count": null,
   "metadata": {},
   "outputs": [],
   "source": [
    "model_table = pd.DataFrame({\"Models\": model_names,\"Accuracy\":accuracy_score(y_test_r,all_models.predict(X_test_r))})"
   ]
  },
  {
   "cell_type": "markdown",
   "metadata": {},
   "source": [
    "### Why the model works best, why were the metrics important"
   ]
  },
  {
   "cell_type": "markdown",
   "metadata": {},
   "source": [
    "# Rerun Best Model plus reports"
   ]
  },
  {
   "cell_type": "markdown",
   "metadata": {},
   "source": [
    "# Most important features"
   ]
  },
  {
   "cell_type": "markdown",
   "metadata": {},
   "source": [
    "## RePlot the distrubutions and relationship with the target variable"
   ]
  },
  {
   "cell_type": "code",
   "execution_count": null,
   "metadata": {},
   "outputs": [],
   "source": []
  },
  {
   "cell_type": "code",
   "execution_count": null,
   "metadata": {},
   "outputs": [],
   "source": []
  },
  {
   "cell_type": "code",
   "execution_count": null,
   "metadata": {},
   "outputs": [],
   "source": []
  },
  {
   "cell_type": "code",
   "execution_count": null,
   "metadata": {},
   "outputs": [],
   "source": []
  },
  {
   "cell_type": "code",
   "execution_count": null,
   "metadata": {},
   "outputs": [],
   "source": []
  },
  {
   "cell_type": "code",
   "execution_count": null,
   "metadata": {},
   "outputs": [],
   "source": []
  },
  {
   "cell_type": "code",
   "execution_count": null,
   "metadata": {},
   "outputs": [],
   "source": []
  },
  {
   "cell_type": "code",
   "execution_count": null,
   "metadata": {},
   "outputs": [],
   "source": []
  },
  {
   "cell_type": "code",
   "execution_count": null,
   "metadata": {},
   "outputs": [],
   "source": []
  },
  {
   "cell_type": "code",
   "execution_count": null,
   "metadata": {},
   "outputs": [],
   "source": []
  },
  {
   "cell_type": "code",
   "execution_count": null,
   "metadata": {},
   "outputs": [],
   "source": []
  },
  {
   "cell_type": "code",
   "execution_count": null,
   "metadata": {},
   "outputs": [],
   "source": []
  },
  {
   "cell_type": "code",
   "execution_count": null,
   "metadata": {},
   "outputs": [],
   "source": []
  },
  {
   "cell_type": "code",
   "execution_count": null,
   "metadata": {},
   "outputs": [],
   "source": []
  },
  {
   "cell_type": "markdown",
   "metadata": {},
   "source": [
    "# Examples for obtaining feature  importances"
   ]
  },
  {
   "cell_type": "code",
   "execution_count": 61,
   "metadata": {},
   "outputs": [],
   "source": [
    "# scaled_pipeline2_model[1].feature_importances_"
   ]
  },
  {
   "cell_type": "code",
   "execution_count": 62,
   "metadata": {},
   "outputs": [],
   "source": [
    "# d = {'Stats':X.columns,'FI':scaled_pipeline2_model[1].feature_importances_}\n",
    "# d2 = pd.DataFrame(d)"
   ]
  },
  {
   "cell_type": "code",
   "execution_count": 63,
   "metadata": {},
   "outputs": [],
   "source": [
    "# d2.sort_values(by='FI')"
   ]
  },
  {
   "cell_type": "code",
   "execution_count": null,
   "metadata": {},
   "outputs": [],
   "source": []
  }
 ],
 "metadata": {
  "kernelspec": {
   "display_name": "Python 3",
   "language": "python",
   "name": "python3"
  },
  "language_info": {
   "codemirror_mode": {
    "name": "ipython",
    "version": 3
   },
   "file_extension": ".py",
   "mimetype": "text/x-python",
   "name": "python",
   "nbconvert_exporter": "python",
   "pygments_lexer": "ipython3",
   "version": "3.8.5"
  },
  "toc": {
   "base_numbering": 1,
   "nav_menu": {},
   "number_sections": true,
   "sideBar": true,
   "skip_h1_title": false,
   "title_cell": "Table of Contents",
   "title_sidebar": "Contents",
   "toc_cell": false,
   "toc_position": {
    "height": "calc(100% - 180px)",
    "left": "10px",
    "top": "150px",
    "width": "409px"
   },
   "toc_section_display": true,
   "toc_window_display": true
  }
 },
 "nbformat": 4,
 "nbformat_minor": 4
}
